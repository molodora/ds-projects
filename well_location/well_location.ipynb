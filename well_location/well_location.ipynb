{
 "cells": [
  {
   "cell_type": "markdown",
   "metadata": {},
   "source": [
    "# Выбор локации для скважины\n",
    "\n",
    "### Задача\n",
    "\n",
    "---\n",
    "\n",
    "Некоторая нефтедобывающая компания решает, где бурить новую скважину. Нужно построить модель машинного обучения, которая поможет определить регион, где добыча принесет наибольшую прибыль. С помощью этой модели нужно оценить возможную прибыль и риски.\n",
    "\n",
    "При решении задачи нужно соблюдать следующие условия:\n",
    "- использовать линейную регрессию, так как она хорошо интерпретируема и предсказуема\n",
    "- при разведке региона исследуют 500 точек, из которых с помощью модели выбирают 200 лучших для разработки\n",
    "- бюджет на разработку скважин в регионе - 10 млрд рублей\n",
    "- считаем, что доход с 1 барреля сырья составляет 450 рублей\n",
    "- нужны лишь те регионы, в которых вероятность убытков меньше 2.5%. Среди них нужно выбрать регион с наибольшей средней прибылью\n",
    "\n",
    "### Данные\n",
    "\n",
    "---\n",
    "\n",
    "Нам предоставлены пробы нефти в трех регионах: в каждом 10 000 месторождений, где измерили качество нефти и объем её запасов. Данные синтетические.\n",
    "\n",
    "Описание данных:\n",
    "- `id` - идентификатор месторождения\n",
    "- `f0`, `f1`, `f2` - некоторые показатели качества нефти\n",
    "- `product` - объем запасов нефти в тыс. баррелей\n",
    "\n",
    "### План проекта:\n",
    "\n",
    "---\n",
    "\n",
    "1. Предобработка данных.\n",
    "    - Изучение датасетов, подготовка данных к обучению модели.\n",
    "2. Обучение моделей.\n",
    "    - Для каждого региона: обучить линейную регрессию на обучающей выборке, на валидационной проверить метрику RMSE и посчитать средний объем предсказанной скважины, сравнить со средней моделью.\n",
    "3. Расчёт прибыли и рисков.\n",
    "    - Методом бутстрепа выбрать 500 скважин для каждого региона, среди которых взять 200 скважин с наибольшими предсказанными объемами сырья. По известным истинным объемам вычислить прибыль. Повторить процесс 1000 раз, построить распределение прибыли и посчитать статистики: среднее значение и 95%-й доверительный интервал. Также посчитать вероятность убытков как долю значений прибыли меньше нуля.\n",
    "4. Вывод.\n",
    "\n",
    "---"
   ]
  },
  {
   "cell_type": "markdown",
   "metadata": {
    "tags": []
   },
   "source": [
    "## Предобработка данных"
   ]
  },
  {
   "cell_type": "code",
   "execution_count": 1,
   "metadata": {
    "tags": []
   },
   "outputs": [],
   "source": [
    "import matplotlib.pyplot as plt\n",
    "import numpy as np\n",
    "from numpy.random import RandomState\n",
    "import pandas as pd\n",
    "import seaborn as sns\n",
    "\n",
    "from sklearn.linear_model import LinearRegression\n",
    "from sklearn.metrics import mean_squared_error\n",
    "from sklearn.model_selection import train_test_split\n",
    "from sklearn.preprocessing import StandardScaler"
   ]
  },
  {
   "cell_type": "code",
   "execution_count": 2,
   "metadata": {
    "tags": []
   },
   "outputs": [],
   "source": [
    "RANDOM_STATE = 42"
   ]
  },
  {
   "cell_type": "markdown",
   "metadata": {},
   "source": [
    "### Изучение датасетов"
   ]
  },
  {
   "cell_type": "code",
   "execution_count": 3,
   "metadata": {
    "tags": []
   },
   "outputs": [],
   "source": [
    "df0 = pd.read_csv('../datasets/geo_data_0.csv')\n",
    "df1 = pd.read_csv('../datasets/geo_data_1.csv')\n",
    "df2 = pd.read_csv('../datasets/geo_data_2.csv')"
   ]
  },
  {
   "cell_type": "code",
   "execution_count": 4,
   "metadata": {
    "tags": []
   },
   "outputs": [],
   "source": [
    "# выводит общую информацию о датасете\n",
    "def general_info(data):\n",
    "    display(data.head())\n",
    "    print(data.info())\n",
    "    print('\\nЯвных дубликатов:', data.duplicated().sum())\n",
    "    print('\\nДубликатов id:', data['id'].duplicated().sum())\n",
    "    \n",
    "    data.hist(figsize=(8, 6), rwidth=0.9)\n",
    "    plt.show()\n",
    "    \n",
    "    display(data.describe())\n",
    "    \n",
    "    fig, ax = plt.subplots(figsize=(5,4))\n",
    "    sns.heatmap(data.corr(numeric_only=True), annot=True, fmt='.1f', annot_kws={\"fontsize\": 12}, ax=ax)\n",
    "    plt.show()"
   ]
  },
  {
   "cell_type": "code",
   "execution_count": 5,
   "metadata": {
    "tags": []
   },
   "outputs": [
    {
     "name": "stdout",
     "output_type": "stream",
     "text": [
      "Информация по датасету geo_data_0\n"
     ]
    },
    {
     "data": {
      "text/html": [
       "<div>\n",
       "<style scoped>\n",
       "    .dataframe tbody tr th:only-of-type {\n",
       "        vertical-align: middle;\n",
       "    }\n",
       "\n",
       "    .dataframe tbody tr th {\n",
       "        vertical-align: top;\n",
       "    }\n",
       "\n",
       "    .dataframe thead th {\n",
       "        text-align: right;\n",
       "    }\n",
       "</style>\n",
       "<table border=\"1\" class=\"dataframe\">\n",
       "  <thead>\n",
       "    <tr style=\"text-align: right;\">\n",
       "      <th></th>\n",
       "      <th>id</th>\n",
       "      <th>f0</th>\n",
       "      <th>f1</th>\n",
       "      <th>f2</th>\n",
       "      <th>product</th>\n",
       "    </tr>\n",
       "  </thead>\n",
       "  <tbody>\n",
       "    <tr>\n",
       "      <th>0</th>\n",
       "      <td>txEyH</td>\n",
       "      <td>0.705745</td>\n",
       "      <td>-0.497823</td>\n",
       "      <td>1.221170</td>\n",
       "      <td>105.280062</td>\n",
       "    </tr>\n",
       "    <tr>\n",
       "      <th>1</th>\n",
       "      <td>2acmU</td>\n",
       "      <td>1.334711</td>\n",
       "      <td>-0.340164</td>\n",
       "      <td>4.365080</td>\n",
       "      <td>73.037750</td>\n",
       "    </tr>\n",
       "    <tr>\n",
       "      <th>2</th>\n",
       "      <td>409Wp</td>\n",
       "      <td>1.022732</td>\n",
       "      <td>0.151990</td>\n",
       "      <td>1.419926</td>\n",
       "      <td>85.265647</td>\n",
       "    </tr>\n",
       "    <tr>\n",
       "      <th>3</th>\n",
       "      <td>iJLyR</td>\n",
       "      <td>-0.032172</td>\n",
       "      <td>0.139033</td>\n",
       "      <td>2.978566</td>\n",
       "      <td>168.620776</td>\n",
       "    </tr>\n",
       "    <tr>\n",
       "      <th>4</th>\n",
       "      <td>Xdl7t</td>\n",
       "      <td>1.988431</td>\n",
       "      <td>0.155413</td>\n",
       "      <td>4.751769</td>\n",
       "      <td>154.036647</td>\n",
       "    </tr>\n",
       "  </tbody>\n",
       "</table>\n",
       "</div>"
      ],
      "text/plain": [
       "      id        f0        f1        f2     product\n",
       "0  txEyH  0.705745 -0.497823  1.221170  105.280062\n",
       "1  2acmU  1.334711 -0.340164  4.365080   73.037750\n",
       "2  409Wp  1.022732  0.151990  1.419926   85.265647\n",
       "3  iJLyR -0.032172  0.139033  2.978566  168.620776\n",
       "4  Xdl7t  1.988431  0.155413  4.751769  154.036647"
      ]
     },
     "metadata": {},
     "output_type": "display_data"
    },
    {
     "name": "stdout",
     "output_type": "stream",
     "text": [
      "<class 'pandas.core.frame.DataFrame'>\n",
      "RangeIndex: 100000 entries, 0 to 99999\n",
      "Data columns (total 5 columns):\n",
      " #   Column   Non-Null Count   Dtype  \n",
      "---  ------   --------------   -----  \n",
      " 0   id       100000 non-null  object \n",
      " 1   f0       100000 non-null  float64\n",
      " 2   f1       100000 non-null  float64\n",
      " 3   f2       100000 non-null  float64\n",
      " 4   product  100000 non-null  float64\n",
      "dtypes: float64(4), object(1)\n",
      "memory usage: 3.8+ MB\n",
      "None\n",
      "\n",
      "Явных дубликатов: 0\n",
      "\n",
      "Дубликатов id: 10\n"
     ]
    },
    {
     "data": {
      "image/png": "[encoded data removed]",
      "text/plain": [
       "<Figure size 800x600 with 4 Axes>"
      ]
     },
     "metadata": {},
     "output_type": "display_data"
    },
    {
     "data": {
      "text/html": [
       "<div>\n",
       "<style scoped>\n",
       "    .dataframe tbody tr th:only-of-type {\n",
       "        vertical-align: middle;\n",
       "    }\n",
       "\n",
       "    .dataframe tbody tr th {\n",
       "        vertical-align: top;\n",
       "    }\n",
       "\n",
       "    .dataframe thead th {\n",
       "        text-align: right;\n",
       "    }\n",
       "</style>\n",
       "<table border=\"1\" class=\"dataframe\">\n",
       "  <thead>\n",
       "    <tr style=\"text-align: right;\">\n",
       "      <th></th>\n",
       "      <th>f0</th>\n",
       "      <th>f1</th>\n",
       "      <th>f2</th>\n",
       "      <th>product</th>\n",
       "    </tr>\n",
       "  </thead>\n",
       "  <tbody>\n",
       "    <tr>\n",
       "      <th>count</th>\n",
       "      <td>100000.000000</td>\n",
       "      <td>100000.000000</td>\n",
       "      <td>100000.000000</td>\n",
       "      <td>100000.000000</td>\n",
       "    </tr>\n",
       "    <tr>\n",
       "      <th>mean</th>\n",
       "      <td>0.500419</td>\n",
       "      <td>0.250143</td>\n",
       "      <td>2.502647</td>\n",
       "      <td>92.500000</td>\n",
       "    </tr>\n",
       "    <tr>\n",
       "      <th>std</th>\n",
       "      <td>0.871832</td>\n",
       "      <td>0.504433</td>\n",
       "      <td>3.248248</td>\n",
       "      <td>44.288691</td>\n",
       "    </tr>\n",
       "    <tr>\n",
       "      <th>min</th>\n",
       "      <td>-1.408605</td>\n",
       "      <td>-0.848218</td>\n",
       "      <td>-12.088328</td>\n",
       "      <td>0.000000</td>\n",
       "    </tr>\n",
       "    <tr>\n",
       "      <th>25%</th>\n",
       "      <td>-0.072580</td>\n",
       "      <td>-0.200881</td>\n",
       "      <td>0.287748</td>\n",
       "      <td>56.497507</td>\n",
       "    </tr>\n",
       "    <tr>\n",
       "      <th>50%</th>\n",
       "      <td>0.502360</td>\n",
       "      <td>0.250252</td>\n",
       "      <td>2.515969</td>\n",
       "      <td>91.849972</td>\n",
       "    </tr>\n",
       "    <tr>\n",
       "      <th>75%</th>\n",
       "      <td>1.073581</td>\n",
       "      <td>0.700646</td>\n",
       "      <td>4.715088</td>\n",
       "      <td>128.564089</td>\n",
       "    </tr>\n",
       "    <tr>\n",
       "      <th>max</th>\n",
       "      <td>2.362331</td>\n",
       "      <td>1.343769</td>\n",
       "      <td>16.003790</td>\n",
       "      <td>185.364347</td>\n",
       "    </tr>\n",
       "  </tbody>\n",
       "</table>\n",
       "</div>"
      ],
      "text/plain": [
       "                  f0             f1             f2        product\n",
       "count  100000.000000  100000.000000  100000.000000  100000.000000\n",
       "mean        0.500419       0.250143       2.502647      92.500000\n",
       "std         0.871832       0.504433       3.248248      44.288691\n",
       "min        -1.408605      -0.848218     -12.088328       0.000000\n",
       "25%        -0.072580      -0.200881       0.287748      56.497507\n",
       "50%         0.502360       0.250252       2.515969      91.849972\n",
       "75%         1.073581       0.700646       4.715088     128.564089\n",
       "max         2.362331       1.343769      16.003790     185.364347"
      ]
     },
     "metadata": {},
     "output_type": "display_data"
    },
    {
     "data": {
      "image/png": "[encoded data removed]",
      "text/plain": [
       "<Figure size 500x400 with 2 Axes>"
      ]
     },
     "metadata": {},
     "output_type": "display_data"
    },
    {
     "name": "stdout",
     "output_type": "stream",
     "text": [
      "Информация по датасету geo_data_1\n"
     ]
    },
    {
     "data": {
      "text/html": [
       "<div>\n",
       "<style scoped>\n",
       "    .dataframe tbody tr th:only-of-type {\n",
       "        vertical-align: middle;\n",
       "    }\n",
       "\n",
       "    .dataframe tbody tr th {\n",
       "        vertical-align: top;\n",
       "    }\n",
       "\n",
       "    .dataframe thead th {\n",
       "        text-align: right;\n",
       "    }\n",
       "</style>\n",
       "<table border=\"1\" class=\"dataframe\">\n",
       "  <thead>\n",
       "    <tr style=\"text-align: right;\">\n",
       "      <th></th>\n",
       "      <th>id</th>\n",
       "      <th>f0</th>\n",
       "      <th>f1</th>\n",
       "      <th>f2</th>\n",
       "      <th>product</th>\n",
       "    </tr>\n",
       "  </thead>\n",
       "  <tbody>\n",
       "    <tr>\n",
       "      <th>0</th>\n",
       "      <td>kBEdx</td>\n",
       "      <td>-15.001348</td>\n",
       "      <td>-8.276000</td>\n",
       "      <td>-0.005876</td>\n",
       "      <td>3.179103</td>\n",
       "    </tr>\n",
       "    <tr>\n",
       "      <th>1</th>\n",
       "      <td>62mP7</td>\n",
       "      <td>14.272088</td>\n",
       "      <td>-3.475083</td>\n",
       "      <td>0.999183</td>\n",
       "      <td>26.953261</td>\n",
       "    </tr>\n",
       "    <tr>\n",
       "      <th>2</th>\n",
       "      <td>vyE1P</td>\n",
       "      <td>6.263187</td>\n",
       "      <td>-5.948386</td>\n",
       "      <td>5.001160</td>\n",
       "      <td>134.766305</td>\n",
       "    </tr>\n",
       "    <tr>\n",
       "      <th>3</th>\n",
       "      <td>KcrkZ</td>\n",
       "      <td>-13.081196</td>\n",
       "      <td>-11.506057</td>\n",
       "      <td>4.999415</td>\n",
       "      <td>137.945408</td>\n",
       "    </tr>\n",
       "    <tr>\n",
       "      <th>4</th>\n",
       "      <td>AHL4O</td>\n",
       "      <td>12.702195</td>\n",
       "      <td>-8.147433</td>\n",
       "      <td>5.004363</td>\n",
       "      <td>134.766305</td>\n",
       "    </tr>\n",
       "  </tbody>\n",
       "</table>\n",
       "</div>"
      ],
      "text/plain": [
       "      id         f0         f1        f2     product\n",
       "0  kBEdx -15.001348  -8.276000 -0.005876    3.179103\n",
       "1  62mP7  14.272088  -3.475083  0.999183   26.953261\n",
       "2  vyE1P   6.263187  -5.948386  5.001160  134.766305\n",
       "3  KcrkZ -13.081196 -11.506057  4.999415  137.945408\n",
       "4  AHL4O  12.702195  -8.147433  5.004363  134.766305"
      ]
     },
     "metadata": {},
     "output_type": "display_data"
    },
    {
     "name": "stdout",
     "output_type": "stream",
     "text": [
      "<class 'pandas.core.frame.DataFrame'>\n",
      "RangeIndex: 100000 entries, 0 to 99999\n",
      "Data columns (total 5 columns):\n",
      " #   Column   Non-Null Count   Dtype  \n",
      "---  ------   --------------   -----  \n",
      " 0   id       100000 non-null  object \n",
      " 1   f0       100000 non-null  float64\n",
      " 2   f1       100000 non-null  float64\n",
      " 3   f2       100000 non-null  float64\n",
      " 4   product  100000 non-null  float64\n",
      "dtypes: float64(4), object(1)\n",
      "memory usage: 3.8+ MB\n",
      "None\n",
      "\n",
      "Явных дубликатов: 0\n",
      "\n",
      "Дубликатов id: 4\n"
     ]
    },
    {
     "data": {
      "image/png": "[encoded data removed]",
      "text/plain": [
       "<Figure size 800x600 with 4 Axes>"
      ]
     },
     "metadata": {},
     "output_type": "display_data"
    },
    {
     "data": {
      "text/html": [
       "<div>\n",
       "<style scoped>\n",
       "    .dataframe tbody tr th:only-of-type {\n",
       "        vertical-align: middle;\n",
       "    }\n",
       "\n",
       "    .dataframe tbody tr th {\n",
       "        vertical-align: top;\n",
       "    }\n",
       "\n",
       "    .dataframe thead th {\n",
       "        text-align: right;\n",
       "    }\n",
       "</style>\n",
       "<table border=\"1\" class=\"dataframe\">\n",
       "  <thead>\n",
       "    <tr style=\"text-align: right;\">\n",
       "      <th></th>\n",
       "      <th>f0</th>\n",
       "      <th>f1</th>\n",
       "      <th>f2</th>\n",
       "      <th>product</th>\n",
       "    </tr>\n",
       "  </thead>\n",
       "  <tbody>\n",
       "    <tr>\n",
       "      <th>count</th>\n",
       "      <td>100000.000000</td>\n",
       "      <td>100000.000000</td>\n",
       "      <td>100000.000000</td>\n",
       "      <td>100000.000000</td>\n",
       "    </tr>\n",
       "    <tr>\n",
       "      <th>mean</th>\n",
       "      <td>1.141296</td>\n",
       "      <td>-4.796579</td>\n",
       "      <td>2.494541</td>\n",
       "      <td>68.825000</td>\n",
       "    </tr>\n",
       "    <tr>\n",
       "      <th>std</th>\n",
       "      <td>8.965932</td>\n",
       "      <td>5.119872</td>\n",
       "      <td>1.703572</td>\n",
       "      <td>45.944423</td>\n",
       "    </tr>\n",
       "    <tr>\n",
       "      <th>min</th>\n",
       "      <td>-31.609576</td>\n",
       "      <td>-26.358598</td>\n",
       "      <td>-0.018144</td>\n",
       "      <td>0.000000</td>\n",
       "    </tr>\n",
       "    <tr>\n",
       "      <th>25%</th>\n",
       "      <td>-6.298551</td>\n",
       "      <td>-8.267985</td>\n",
       "      <td>1.000021</td>\n",
       "      <td>26.953261</td>\n",
       "    </tr>\n",
       "    <tr>\n",
       "      <th>50%</th>\n",
       "      <td>1.153055</td>\n",
       "      <td>-4.813172</td>\n",
       "      <td>2.011479</td>\n",
       "      <td>57.085625</td>\n",
       "    </tr>\n",
       "    <tr>\n",
       "      <th>75%</th>\n",
       "      <td>8.621015</td>\n",
       "      <td>-1.332816</td>\n",
       "      <td>3.999904</td>\n",
       "      <td>107.813044</td>\n",
       "    </tr>\n",
       "    <tr>\n",
       "      <th>max</th>\n",
       "      <td>29.421755</td>\n",
       "      <td>18.734063</td>\n",
       "      <td>5.019721</td>\n",
       "      <td>137.945408</td>\n",
       "    </tr>\n",
       "  </tbody>\n",
       "</table>\n",
       "</div>"
      ],
      "text/plain": [
       "                  f0             f1             f2        product\n",
       "count  100000.000000  100000.000000  100000.000000  100000.000000\n",
       "mean        1.141296      -4.796579       2.494541      68.825000\n",
       "std         8.965932       5.119872       1.703572      45.944423\n",
       "min       -31.609576     -26.358598      -0.018144       0.000000\n",
       "25%        -6.298551      -8.267985       1.000021      26.953261\n",
       "50%         1.153055      -4.813172       2.011479      57.085625\n",
       "75%         8.621015      -1.332816       3.999904     107.813044\n",
       "max        29.421755      18.734063       5.019721     137.945408"
      ]
     },
     "metadata": {},
     "output_type": "display_data"
    },
    {
     "data": {
      "image/png": "[encoded data removed]",
      "text/plain": [
       "<Figure size 500x400 with 2 Axes>"
      ]
     },
     "metadata": {},
     "output_type": "display_data"
    },
    {
     "name": "stdout",
     "output_type": "stream",
     "text": [
      "Информация по датасету geo_data_2\n"
     ]
    },
    {
     "data": {
      "text/html": [
       "<div>\n",
       "<style scoped>\n",
       "    .dataframe tbody tr th:only-of-type {\n",
       "        vertical-align: middle;\n",
       "    }\n",
       "\n",
       "    .dataframe tbody tr th {\n",
       "        vertical-align: top;\n",
       "    }\n",
       "\n",
       "    .dataframe thead th {\n",
       "        text-align: right;\n",
       "    }\n",
       "</style>\n",
       "<table border=\"1\" class=\"dataframe\">\n",
       "  <thead>\n",
       "    <tr style=\"text-align: right;\">\n",
       "      <th></th>\n",
       "      <th>id</th>\n",
       "      <th>f0</th>\n",
       "      <th>f1</th>\n",
       "      <th>f2</th>\n",
       "      <th>product</th>\n",
       "    </tr>\n",
       "  </thead>\n",
       "  <tbody>\n",
       "    <tr>\n",
       "      <th>0</th>\n",
       "      <td>fwXo0</td>\n",
       "      <td>-1.146987</td>\n",
       "      <td>0.963328</td>\n",
       "      <td>-0.828965</td>\n",
       "      <td>27.758673</td>\n",
       "    </tr>\n",
       "    <tr>\n",
       "      <th>1</th>\n",
       "      <td>WJtFt</td>\n",
       "      <td>0.262778</td>\n",
       "      <td>0.269839</td>\n",
       "      <td>-2.530187</td>\n",
       "      <td>56.069697</td>\n",
       "    </tr>\n",
       "    <tr>\n",
       "      <th>2</th>\n",
       "      <td>ovLUW</td>\n",
       "      <td>0.194587</td>\n",
       "      <td>0.289035</td>\n",
       "      <td>-5.586433</td>\n",
       "      <td>62.871910</td>\n",
       "    </tr>\n",
       "    <tr>\n",
       "      <th>3</th>\n",
       "      <td>q6cA6</td>\n",
       "      <td>2.236060</td>\n",
       "      <td>-0.553760</td>\n",
       "      <td>0.930038</td>\n",
       "      <td>114.572842</td>\n",
       "    </tr>\n",
       "    <tr>\n",
       "      <th>4</th>\n",
       "      <td>WPMUX</td>\n",
       "      <td>-0.515993</td>\n",
       "      <td>1.716266</td>\n",
       "      <td>5.899011</td>\n",
       "      <td>149.600746</td>\n",
       "    </tr>\n",
       "  </tbody>\n",
       "</table>\n",
       "</div>"
      ],
      "text/plain": [
       "      id        f0        f1        f2     product\n",
       "0  fwXo0 -1.146987  0.963328 -0.828965   27.758673\n",
       "1  WJtFt  0.262778  0.269839 -2.530187   56.069697\n",
       "2  ovLUW  0.194587  0.289035 -5.586433   62.871910\n",
       "3  q6cA6  2.236060 -0.553760  0.930038  114.572842\n",
       "4  WPMUX -0.515993  1.716266  5.899011  149.600746"
      ]
     },
     "metadata": {},
     "output_type": "display_data"
    },
    {
     "name": "stdout",
     "output_type": "stream",
     "text": [
      "<class 'pandas.core.frame.DataFrame'>\n",
      "RangeIndex: 100000 entries, 0 to 99999\n",
      "Data columns (total 5 columns):\n",
      " #   Column   Non-Null Count   Dtype  \n",
      "---  ------   --------------   -----  \n",
      " 0   id       100000 non-null  object \n",
      " 1   f0       100000 non-null  float64\n",
      " 2   f1       100000 non-null  float64\n",
      " 3   f2       100000 non-null  float64\n",
      " 4   product  100000 non-null  float64\n",
      "dtypes: float64(4), object(1)\n",
      "memory usage: 3.8+ MB\n",
      "None\n",
      "\n",
      "Явных дубликатов: 0\n",
      "\n",
      "Дубликатов id: 4\n"
     ]
    },
    {
     "data": {
      "image/png": "[encoded data removed]",
      "text/plain": [
       "<Figure size 800x600 with 4 Axes>"
      ]
     },
     "metadata": {},
     "output_type": "display_data"
    },
    {
     "data": {
      "text/html": [
       "<div>\n",
       "<style scoped>\n",
       "    .dataframe tbody tr th:only-of-type {\n",
       "        vertical-align: middle;\n",
       "    }\n",
       "\n",
       "    .dataframe tbody tr th {\n",
       "        vertical-align: top;\n",
       "    }\n",
       "\n",
       "    .dataframe thead th {\n",
       "        text-align: right;\n",
       "    }\n",
       "</style>\n",
       "<table border=\"1\" class=\"dataframe\">\n",
       "  <thead>\n",
       "    <tr style=\"text-align: right;\">\n",
       "      <th></th>\n",
       "      <th>f0</th>\n",
       "      <th>f1</th>\n",
       "      <th>f2</th>\n",
       "      <th>product</th>\n",
       "    </tr>\n",
       "  </thead>\n",
       "  <tbody>\n",
       "    <tr>\n",
       "      <th>count</th>\n",
       "      <td>100000.000000</td>\n",
       "      <td>100000.000000</td>\n",
       "      <td>100000.000000</td>\n",
       "      <td>100000.000000</td>\n",
       "    </tr>\n",
       "    <tr>\n",
       "      <th>mean</th>\n",
       "      <td>0.002023</td>\n",
       "      <td>-0.002081</td>\n",
       "      <td>2.495128</td>\n",
       "      <td>95.000000</td>\n",
       "    </tr>\n",
       "    <tr>\n",
       "      <th>std</th>\n",
       "      <td>1.732045</td>\n",
       "      <td>1.730417</td>\n",
       "      <td>3.473445</td>\n",
       "      <td>44.749921</td>\n",
       "    </tr>\n",
       "    <tr>\n",
       "      <th>min</th>\n",
       "      <td>-8.760004</td>\n",
       "      <td>-7.084020</td>\n",
       "      <td>-11.970335</td>\n",
       "      <td>0.000000</td>\n",
       "    </tr>\n",
       "    <tr>\n",
       "      <th>25%</th>\n",
       "      <td>-1.162288</td>\n",
       "      <td>-1.174820</td>\n",
       "      <td>0.130359</td>\n",
       "      <td>59.450441</td>\n",
       "    </tr>\n",
       "    <tr>\n",
       "      <th>50%</th>\n",
       "      <td>0.009424</td>\n",
       "      <td>-0.009482</td>\n",
       "      <td>2.484236</td>\n",
       "      <td>94.925613</td>\n",
       "    </tr>\n",
       "    <tr>\n",
       "      <th>75%</th>\n",
       "      <td>1.158535</td>\n",
       "      <td>1.163678</td>\n",
       "      <td>4.858794</td>\n",
       "      <td>130.595027</td>\n",
       "    </tr>\n",
       "    <tr>\n",
       "      <th>max</th>\n",
       "      <td>7.238262</td>\n",
       "      <td>7.844801</td>\n",
       "      <td>16.739402</td>\n",
       "      <td>190.029838</td>\n",
       "    </tr>\n",
       "  </tbody>\n",
       "</table>\n",
       "</div>"
      ],
      "text/plain": [
       "                  f0             f1             f2        product\n",
       "count  100000.000000  100000.000000  100000.000000  100000.000000\n",
       "mean        0.002023      -0.002081       2.495128      95.000000\n",
       "std         1.732045       1.730417       3.473445      44.749921\n",
       "min        -8.760004      -7.084020     -11.970335       0.000000\n",
       "25%        -1.162288      -1.174820       0.130359      59.450441\n",
       "50%         0.009424      -0.009482       2.484236      94.925613\n",
       "75%         1.158535       1.163678       4.858794     130.595027\n",
       "max         7.238262       7.844801      16.739402     190.029838"
      ]
     },
     "metadata": {},
     "output_type": "display_data"
    },
    {
     "data": {
      "image/png": "[encoded data removed]",
      "text/plain": [
       "<Figure size 500x400 with 2 Axes>"
      ]
     },
     "metadata": {},
     "output_type": "display_data"
    }
   ],
   "source": [
    "for i, df in enumerate((df0, df1, df2)):\n",
    "    print(f\"Информация по датасету geo_data_{i}\")\n",
    "    general_info(df)"
   ]
  },
  {
   "cell_type": "markdown",
   "metadata": {},
   "source": [
    "**Промежуточный вывод:**\n",
    "\n",
    "Каждый датасет содержит 10 000 объектов и 5 признаков, из которых `product` - целевой.\n",
    "\n",
    "Пропусков и явных дубликатов нет. Есть дубликаты id, однако значения признаков `f` и объема `product` у них разное, поэтому было решено оставить эти объекты. Дублирование id могло произойти случайно.\n",
    "\n",
    "Коллинеарность в признаках не наблюдается, но можно заметить, что на целевой признак больше всего влияет признак `f2` для всех регионов. Также заметим, что вид распределений признаков по регионам различается.\n",
    "\n",
    "Для подготовки данных к обучению нужно:\n",
    "\n",
    "- удалить незначимый признак `id` - идентификатор скважины;\n",
    "- разделить данные на обучающую и валидационную выборки в соотношении 75:25;\n",
    "- отмасштабировать признаки."
   ]
  },
  {
   "cell_type": "markdown",
   "metadata": {},
   "source": [
    "### Подготовка данных к обучению"
   ]
  },
  {
   "cell_type": "markdown",
   "metadata": {},
   "source": [
    "Удалим незначимый признак `id`."
   ]
  },
  {
   "cell_type": "code",
   "execution_count": 6,
   "metadata": {
    "tags": []
   },
   "outputs": [],
   "source": [
    "for df in (df0, df1, df2):\n",
    "    df.drop('id', axis=1, inplace=True)"
   ]
  },
  {
   "cell_type": "markdown",
   "metadata": {},
   "source": [
    "Разделим данные на обучающую и валидационную выборки в соотношении 75:25."
   ]
  },
  {
   "cell_type": "code",
   "execution_count": 7,
   "metadata": {
    "tags": []
   },
   "outputs": [],
   "source": [
    "y0, y1, y2 = df0['product'], df1['product'], df2['product']\n",
    "X0, X1, X2 = df0.drop('product', axis=1), df1.drop('product', axis=1), df2.drop('product', axis=1)\n",
    "\n",
    "X0_train, X0_valid, y0_train, y0_valid = train_test_split(\n",
    "    X0, y0, test_size=0.25, random_state=RANDOM_STATE)\n",
    "X1_train, X1_valid, y1_train, y1_valid = train_test_split(\n",
    "    X1, y1, test_size=0.25, random_state=RANDOM_STATE)\n",
    "X2_train, X2_valid, y2_train, y2_valid = train_test_split(\n",
    "    X2, y2, test_size=0.25, random_state=RANDOM_STATE)"
   ]
  },
  {
   "cell_type": "code",
   "execution_count": 8,
   "metadata": {
    "tags": []
   },
   "outputs": [
    {
     "name": "stdout",
     "output_type": "stream",
     "text": [
      "Размеры выборок:\n",
      "train - 75000\n",
      "valid - 25000\n"
     ]
    }
   ],
   "source": [
    "print('Размеры выборок:')\n",
    "print('train -', len(X0_train)) if len(X0_train)==len(X1_train)==len(X2_train) else print(\"train - разные\")\n",
    "print('valid -', len(X0_valid)) if len(X0_valid)==len(X1_valid)==len(X2_valid) else print(\"valid - разные\")"
   ]
  },
  {
   "cell_type": "markdown",
   "metadata": {},
   "source": [
    "Проведем масштабирование признаков"
   ]
  },
  {
   "cell_type": "code",
   "execution_count": 9,
   "metadata": {
    "tags": []
   },
   "outputs": [],
   "source": [
    "scaler = StandardScaler()\n",
    "X0_train = scaler.fit_transform(X0_train)\n",
    "X0_valid = scaler.transform(X0_valid)\n",
    "\n",
    "X1_train = scaler.fit_transform(X1_train)\n",
    "X1_valid = scaler.transform(X1_valid)\n",
    "\n",
    "X2_train = scaler.fit_transform(X2_train)\n",
    "X2_valid = scaler.transform(X2_valid)"
   ]
  },
  {
   "cell_type": "markdown",
   "metadata": {
    "tags": []
   },
   "source": [
    "## Обучение и проверка модели"
   ]
  },
  {
   "cell_type": "markdown",
   "metadata": {},
   "source": [
    "Обучим модель линейной регрессии для каждого региона и сделаем предсказания на валидационных выборках."
   ]
  },
  {
   "cell_type": "code",
   "execution_count": 10,
   "metadata": {
    "tags": []
   },
   "outputs": [],
   "source": [
    "model0 = LinearRegression().fit(X0_train, y0_train)\n",
    "pred0_valid = pd.Series(model0.predict(X0_valid))\n",
    "y0_valid.reset_index(drop=True, inplace=True)\n",
    "\n",
    "model1 = LinearRegression().fit(X1_train, y1_train)\n",
    "pred1_valid = pd.Series(model1.predict(X1_valid))\n",
    "y1_valid.reset_index(drop=True, inplace=True)\n",
    "\n",
    "model2 = LinearRegression().fit(X2_train, y2_train)\n",
    "pred2_valid = pd.Series(model2.predict(X2_valid))\n",
    "y2_valid.reset_index(drop=True, inplace=True)"
   ]
  },
  {
   "cell_type": "markdown",
   "metadata": {},
   "source": [
    "Найдем средний предсказанный запас сырья в скважине и RMSE модели для каждого региона."
   ]
  },
  {
   "cell_type": "code",
   "execution_count": 11,
   "metadata": {
    "tags": []
   },
   "outputs": [
    {
     "name": "stdout",
     "output_type": "stream",
     "text": [
      "---------1-й регион---------\n",
      "Средний запас предсказанного сырья: 92.40 тыс. баррелей\n",
      "RMSE модели: 37.76 тыс. баррелей\n",
      "\n",
      "---------2-й регион---------\n",
      "Средний запас предсказанного сырья: 68.71 тыс. баррелей\n",
      "RMSE модели: 0.89 тыс. баррелей\n",
      "\n",
      "---------3-й регион---------\n",
      "Средний запас предсказанного сырья: 94.77 тыс. баррелей\n",
      "RMSE модели: 40.15 тыс. баррелей\n",
      "\n"
     ]
    }
   ],
   "source": [
    "for i, (pred_valid, y_valid) in enumerate([(pred0_valid, y0_valid),\n",
    "                                                (pred1_valid, y1_valid),\n",
    "                                                (pred2_valid, y2_valid)]):\n",
    "    print(f\"---------{i+1}-й регион---------\")\n",
    "    print(f\"Средний запас предсказанного сырья: {pred_valid.mean():.2f} тыс. баррелей\")\n",
    "    print(f\"RMSE модели: {mean_squared_error(y_valid, pred_valid) ** 0.5:.2f} тыс. баррелей\")\n",
    "    print()"
   ]
  },
  {
   "cell_type": "markdown",
   "metadata": {},
   "source": [
    "Сравним со средней моделью."
   ]
  },
  {
   "cell_type": "code",
   "execution_count": 12,
   "metadata": {
    "tags": []
   },
   "outputs": [
    {
     "name": "stdout",
     "output_type": "stream",
     "text": [
      "---------1-й регион---------\n",
      "RMSE средней модели: 44.28 тыс. баррелей\n",
      "\n",
      "---------2-й регион---------\n",
      "RMSE средней модели: 45.94 тыс. баррелей\n",
      "\n",
      "---------3-й регион---------\n",
      "RMSE средней модели: 44.78 тыс. баррелей\n",
      "\n"
     ]
    }
   ],
   "source": [
    "for i, (y_train, y_valid) in enumerate([(y0_train, y0_valid),\n",
    "                                        (y1_train, y1_valid),\n",
    "                                        (y2_train, y2_valid)]):\n",
    "    \n",
    "    predicted_const = [y_train.mean()]*len(y_valid)\n",
    "    print(f\"---------{i+1}-й регион---------\")\n",
    "    print(f\"RMSE средней модели: {mean_squared_error(y_valid, predicted_const) ** 0.5:.2f} тыс. баррелей\")\n",
    "    print()"
   ]
  },
  {
   "cell_type": "markdown",
   "metadata": {},
   "source": [
    "**Промежуточный вывод:**\n",
    "\n",
    "Во 2-м регионе средний объем сырья в скважине меньше, чем в других регионах. Однако модель линейной регрессии во 2-м регионе оказалась самой качественной по RMSE. В 1-м и 3-м регионах качество моделей близко к средней модели."
   ]
  },
  {
   "cell_type": "markdown",
   "metadata": {},
   "source": [
    "## Расчёт прибыли и рисков"
   ]
  },
  {
   "cell_type": "code",
   "execution_count": 13,
   "metadata": {
    "tags": []
   },
   "outputs": [],
   "source": [
    "SAMPLE_SIZE = 500\n",
    "NUMBER_OF_SITES = 200\n",
    "BUDGET = 10e9            # rubles\n",
    "PROFIT_PER_UNIT = 450e3  # rubles / kbbl"
   ]
  },
  {
   "cell_type": "markdown",
   "metadata": {},
   "source": [
    "Посчитаем, сколько должно быть сырья в скважине, чтобы выйти в ноль."
   ]
  },
  {
   "cell_type": "code",
   "execution_count": 14,
   "metadata": {
    "tags": []
   },
   "outputs": [
    {
     "name": "stdout",
     "output_type": "stream",
     "text": [
      "Для безубыточной разработки новой скважины объём сырья должен составлять 111.11 килобаррель.\n"
     ]
    }
   ],
   "source": [
    "product_threshold = BUDGET / NUMBER_OF_SITES / PROFIT_PER_UNIT\n",
    "\n",
    "print(f\"Для безубыточной разработки новой скважины объём сырья должен составлять {product_threshold:.2f} килобаррель.\")"
   ]
  },
  {
   "cell_type": "markdown",
   "metadata": {},
   "source": [
    "Средний запас сырья по регионам меньше 111.11 тыс. баррелей (см. результаты выше). Это значит, что если мы будем случайно выбирать 200 скважин для разработки, то рискуем оказаться в минусе. Поэтому следует изучить больше 200 скважин (а именно 500 в данной задаче), из которых выбрать 200 с максимальным предсказанным объемом сырья.\n",
    "\n",
    "Напишем функцию для расчета прибыли по выбранным скважинам и предсказаниям модели."
   ]
  },
  {
   "cell_type": "code",
   "execution_count": 15,
   "metadata": {
    "tags": []
   },
   "outputs": [],
   "source": [
    "def profit_calc(actual, predicted):\n",
    "    sum_product = actual[predicted.sort_values(ascending=False).head(NUMBER_OF_SITES).index].sum()\n",
    "    return sum_product * PROFIT_PER_UNIT - BUDGET"
   ]
  },
  {
   "cell_type": "markdown",
   "metadata": {
    "tags": []
   },
   "source": [
    "Построим для каждого региона методом бутстрепа распределение случайной величины - прибыли от добычи нефти на 200 скважинах."
   ]
  },
  {
   "cell_type": "code",
   "execution_count": 16,
   "metadata": {
    "tags": []
   },
   "outputs": [
    {
     "name": "stdout",
     "output_type": "stream",
     "text": [
      "---------1-й регион---------\n"
     ]
    },
    {
     "data": {
      "image/png": "[encoded data removed]",
      "text/plain": [
       "<Figure size 500x500 with 1 Axes>"
      ]
     },
     "metadata": {},
     "output_type": "display_data"
    },
    {
     "name": "stdout",
     "output_type": "stream",
     "text": [
      "Средняя прибыль: 606122631.53 руб\n",
      "95%-й доверительный интервал: [10089412.00, 1246370980.56]\n",
      "Вероятность убытков: 2.5%\n",
      "\n",
      "---------2-й регион---------\n"
     ]
    },
    {
     "data": {
      "image/png": "[encoded data removed]",
      "text/plain": [
       "<Figure size 500x500 with 1 Axes>"
      ]
     },
     "metadata": {},
     "output_type": "display_data"
    },
    {
     "name": "stdout",
     "output_type": "stream",
     "text": [
      "Средняя прибыль: 662413205.01 руб\n",
      "95%-й доверительный интервал: [148800010.97, 1186977426.07]\n",
      "Вероятность убытков: 0.3%\n",
      "\n",
      "---------3-й регион---------\n"
     ]
    },
    {
     "data": {
      "image/png": "[encoded data removed]",
      "text/plain": [
       "<Figure size 500x500 with 1 Axes>"
      ]
     },
     "metadata": {},
     "output_type": "display_data"
    },
    {
     "name": "stdout",
     "output_type": "stream",
     "text": [
      "Средняя прибыль: 592052020.95 руб\n",
      "95%-й доверительный интервал: [2464800.77, 1254827360.51]\n",
      "Вероятность убытков: 2.5%\n",
      "\n"
     ]
    }
   ],
   "source": [
    "state = RandomState(RANDOM_STATE)\n",
    "\n",
    "for i, (y_valid, pred_valid) in enumerate([(y0_valid, pred0_valid),\n",
    "                                           (y1_valid, pred1_valid),\n",
    "                                           (y2_valid, pred2_valid)]):\n",
    "    boot_profit = []\n",
    "\n",
    "    for _ in range(1000):\n",
    "        actual = y_valid.sample(SAMPLE_SIZE, replace=True, random_state=state)\n",
    "        predicted = pred_valid[actual.index]\n",
    "        boot_profit.append(profit_calc(actual, predicted))\n",
    "        \n",
    "    boot_profit = pd.Series(boot_profit)\n",
    "\n",
    "    print(f\"---------{i+1}-й регион---------\")\n",
    "    sns.displot(boot_profit, kde=True).set_xlabels(\"Прибыль, руб\")\n",
    "    plt.show()\n",
    "    print(f\"Средняя прибыль: {boot_profit.mean():.2f} руб\")\n",
    "    print(f\"95%-й доверительный интервал: [{boot_profit.quantile(0.025):.2f}, {boot_profit.quantile(0.975):.2f}]\")\n",
    "    print(f\"Вероятность убытков: {(boot_profit < 0).sum()/len(boot_profit):.1%}\")\n",
    "    print()"
   ]
  },
  {
   "cell_type": "markdown",
   "metadata": {},
   "source": [
    "**Промежуточный вывод:** \n",
    "\n",
    "Самая низкая вероятность убытков и самая высокая средняя прибыль во втором регионе, поэтому для разработки скважин предлагается выбрать его."
   ]
  },
  {
   "cell_type": "markdown",
   "metadata": {},
   "source": [
    "## Вывод"
   ]
  },
  {
   "cell_type": "markdown",
   "metadata": {},
   "source": [
    "В ходе работы над проектом были исследованы данные месторождений нефти из трех регионов.\n",
    "\n",
    "Для каждого региона мы построили модель линейной регрессии для предсказания объема нефти в скважине по ее характеристикам. Качество моделей для 1-го и 3-го регионов оказались сравнимы со случайной моделью - $\\text{RMSE}\\approx$ 40 тыс. баррелей, в то время как качество модели для 2-го региона составило меньше 1 тыс. баррелей.\n",
    "\n",
    "Затем мы смоделировали случайный процесс разведки и отбора скважин: случайно выбрали для каждого региона 500 скважин, по предсказанным значениям объема выбрали 200 лучших, а по известным значениям объема нашли выручку. Таким образом, методом бутстрепа мы построили распределение прибыли на каждом регионе, нашли среднее значение, 95%-й доверительный интревал и вероятность убытков.\n",
    "\n",
    "В итоге мы выбрали регион с наибольшей средней прибылью и наименьшими рисками - **второй регион** со средней прибылью ~660 млн руб, и вероятностью убытков 0.3%."
   ]
  },
  {
   "cell_type": "code",
   "execution_count": null,
   "metadata": {},
   "outputs": [],
   "source": []
  }
 ],
 "metadata": {
  "ExecuteTimeLog": [
   {
    "duration": 692,
    "start_time": "2022-11-06T10:17:19.553Z"
   },
   {
    "duration": 1663,
    "start_time": "2022-11-06T10:20:48.031Z"
   },
   {
    "duration": 4,
    "start_time": "2022-11-06T10:22:00.068Z"
   },
   {
    "duration": 738,
    "start_time": "2022-11-06T10:22:45.776Z"
   },
   {
    "duration": 519,
    "start_time": "2022-11-06T10:24:12.672Z"
   },
   {
    "duration": 939,
    "start_time": "2022-11-06T10:24:15.811Z"
   },
   {
    "duration": 338,
    "start_time": "2022-11-06T12:27:30.016Z"
   },
   {
    "duration": 7,
    "start_time": "2022-11-06T12:31:06.185Z"
   },
   {
    "duration": 10,
    "start_time": "2022-11-06T12:31:19.391Z"
   },
   {
    "duration": 41,
    "start_time": "2022-11-06T12:33:09.542Z"
   },
   {
    "duration": 17,
    "start_time": "2022-11-06T12:33:26.746Z"
   },
   {
    "duration": 10,
    "start_time": "2022-11-06T12:33:45.973Z"
   },
   {
    "duration": 3,
    "start_time": "2022-11-06T12:33:58.089Z"
   },
   {
    "duration": 3,
    "start_time": "2022-11-06T12:43:55.747Z"
   },
   {
    "duration": 80,
    "start_time": "2022-11-06T12:53:52.227Z"
   },
   {
    "duration": 12,
    "start_time": "2022-11-06T12:54:02.067Z"
   },
   {
    "duration": 3,
    "start_time": "2022-11-06T13:57:53.035Z"
   },
   {
    "duration": 3,
    "start_time": "2022-11-06T14:01:18.952Z"
   },
   {
    "duration": 5,
    "start_time": "2022-11-06T14:02:10.734Z"
   },
   {
    "duration": 6,
    "start_time": "2022-11-06T14:06:04.237Z"
   },
   {
    "duration": 6,
    "start_time": "2022-11-06T14:09:10.728Z"
   },
   {
    "duration": 7,
    "start_time": "2022-11-06T14:09:18.717Z"
   },
   {
    "duration": 5,
    "start_time": "2022-11-06T14:30:49.081Z"
   },
   {
    "duration": 3,
    "start_time": "2022-11-06T16:41:04.191Z"
   },
   {
    "duration": 8,
    "start_time": "2022-11-06T16:59:41.423Z"
   },
   {
    "duration": 4,
    "start_time": "2022-11-06T16:59:45.296Z"
   },
   {
    "duration": 3,
    "start_time": "2022-11-06T16:59:45.513Z"
   },
   {
    "duration": 3,
    "start_time": "2022-11-06T17:01:11.120Z"
   },
   {
    "duration": 4,
    "start_time": "2022-11-06T17:01:40.423Z"
   },
   {
    "duration": 4,
    "start_time": "2022-11-06T17:02:57.550Z"
   },
   {
    "duration": 2,
    "start_time": "2022-11-06T17:10:46.496Z"
   },
   {
    "duration": 3,
    "start_time": "2022-11-06T17:10:46.772Z"
   },
   {
    "duration": 9,
    "start_time": "2022-11-06T17:46:20.772Z"
   },
   {
    "duration": 8,
    "start_time": "2022-11-06T17:46:24.937Z"
   },
   {
    "duration": 11,
    "start_time": "2022-11-06T17:46:34.852Z"
   },
   {
    "duration": 4,
    "start_time": "2022-11-06T17:47:00.087Z"
   },
   {
    "duration": 6,
    "start_time": "2022-11-06T17:47:13.276Z"
   },
   {
    "duration": 12,
    "start_time": "2022-11-06T17:47:25.817Z"
   },
   {
    "duration": 7,
    "start_time": "2022-11-06T17:47:32.678Z"
   },
   {
    "duration": 4,
    "start_time": "2022-11-06T17:47:44.562Z"
   },
   {
    "duration": 3,
    "start_time": "2022-11-06T17:49:24.245Z"
   },
   {
    "duration": 5,
    "start_time": "2022-11-06T17:49:34.239Z"
   },
   {
    "duration": 6,
    "start_time": "2022-11-06T17:49:52.138Z"
   },
   {
    "duration": 7,
    "start_time": "2022-11-06T17:50:19.652Z"
   },
   {
    "duration": 9,
    "start_time": "2022-11-06T17:50:32.775Z"
   },
   {
    "duration": 9,
    "start_time": "2022-11-06T17:50:46.978Z"
   },
   {
    "duration": 7,
    "start_time": "2022-11-06T17:51:00.918Z"
   },
   {
    "duration": 8,
    "start_time": "2022-11-06T17:51:28.995Z"
   },
   {
    "duration": 7,
    "start_time": "2022-11-06T17:53:19.220Z"
   },
   {
    "duration": 7,
    "start_time": "2022-11-06T17:53:32.141Z"
   },
   {
    "duration": 3,
    "start_time": "2022-11-06T17:58:33.718Z"
   },
   {
    "duration": 3,
    "start_time": "2022-11-06T18:02:31.531Z"
   },
   {
    "duration": 9,
    "start_time": "2022-11-06T18:03:01.045Z"
   },
   {
    "duration": 7,
    "start_time": "2022-11-06T18:03:59.872Z"
   },
   {
    "duration": 8,
    "start_time": "2022-11-06T18:04:11.246Z"
   },
   {
    "duration": 1668,
    "start_time": "2022-11-08T09:00:41.949Z"
   },
   {
    "duration": 1509,
    "start_time": "2022-11-08T09:00:43.619Z"
   },
   {
    "duration": 4,
    "start_time": "2022-11-08T09:00:45.130Z"
   },
   {
    "duration": 2948,
    "start_time": "2022-11-08T09:01:38.105Z"
   },
   {
    "duration": 5,
    "start_time": "2022-11-08T09:04:10.295Z"
   },
   {
    "duration": 9,
    "start_time": "2022-11-08T09:04:10.622Z"
   },
   {
    "duration": 11,
    "start_time": "2022-11-08T09:04:12.077Z"
   },
   {
    "duration": 4,
    "start_time": "2022-11-08T09:04:12.486Z"
   },
   {
    "duration": 18,
    "start_time": "2022-11-08T09:04:13.337Z"
   },
   {
    "duration": 6,
    "start_time": "2022-11-08T09:04:13.682Z"
   },
   {
    "duration": 7,
    "start_time": "2022-11-08T09:04:14.492Z"
   },
   {
    "duration": 3,
    "start_time": "2022-11-08T09:04:15.734Z"
   },
   {
    "duration": 3,
    "start_time": "2022-11-08T09:04:16.559Z"
   },
   {
    "duration": 4,
    "start_time": "2022-11-08T09:05:08.097Z"
   },
   {
    "duration": 8,
    "start_time": "2022-11-08T09:05:08.480Z"
   },
   {
    "duration": 4,
    "start_time": "2022-11-08T09:12:04.989Z"
   },
   {
    "duration": 260,
    "start_time": "2022-11-08T09:16:22.356Z"
   },
   {
    "duration": 12,
    "start_time": "2022-11-08T09:16:33.052Z"
   },
   {
    "duration": 4,
    "start_time": "2022-11-08T09:16:35.349Z"
   },
   {
    "duration": 7,
    "start_time": "2022-11-08T09:16:36.202Z"
   },
   {
    "duration": 2,
    "start_time": "2022-11-08T09:16:39.574Z"
   },
   {
    "duration": 3,
    "start_time": "2022-11-08T09:16:41.451Z"
   },
   {
    "duration": 3,
    "start_time": "2022-11-08T09:16:54.048Z"
   },
   {
    "duration": 8,
    "start_time": "2022-11-08T09:16:54.696Z"
   },
   {
    "duration": 1380,
    "start_time": "2022-11-08T09:22:28.292Z"
   },
   {
    "duration": 13,
    "start_time": "2022-11-08T09:24:03.600Z"
   },
   {
    "duration": 7,
    "start_time": "2022-11-08T09:24:13.862Z"
   },
   {
    "duration": 16,
    "start_time": "2022-11-08T10:49:12.896Z"
   },
   {
    "duration": 6,
    "start_time": "2022-11-08T10:49:41.262Z"
   },
   {
    "duration": 142,
    "start_time": "2022-11-08T10:49:57.488Z"
   },
   {
    "duration": 139,
    "start_time": "2022-11-08T10:51:25.476Z"
   },
   {
    "duration": 47,
    "start_time": "2022-11-08T10:53:44.821Z"
   },
   {
    "duration": 140,
    "start_time": "2022-11-08T10:53:52.602Z"
   },
   {
    "duration": 173,
    "start_time": "2022-11-08T11:09:49.112Z"
   },
   {
    "duration": 132,
    "start_time": "2022-11-08T11:10:05.512Z"
   },
   {
    "duration": 128,
    "start_time": "2022-11-08T11:10:15.702Z"
   },
   {
    "duration": 133,
    "start_time": "2022-11-08T11:10:29.632Z"
   },
   {
    "duration": 174,
    "start_time": "2022-11-08T11:10:56.622Z"
   },
   {
    "duration": 160,
    "start_time": "2022-11-08T11:13:34.936Z"
   },
   {
    "duration": 158,
    "start_time": "2022-11-08T11:18:19.910Z"
   },
   {
    "duration": 176,
    "start_time": "2022-11-08T11:18:31.159Z"
   },
   {
    "duration": 426,
    "start_time": "2022-11-08T11:19:54.788Z"
   },
   {
    "duration": 18,
    "start_time": "2022-11-08T11:22:25.712Z"
   },
   {
    "duration": 3,
    "start_time": "2022-11-08T11:22:27.335Z"
   },
   {
    "duration": 32,
    "start_time": "2022-11-08T11:22:30.261Z"
   },
   {
    "duration": 5,
    "start_time": "2022-11-08T11:22:49.884Z"
   },
   {
    "duration": 8,
    "start_time": "2022-11-08T11:22:50.156Z"
   },
   {
    "duration": 15,
    "start_time": "2022-11-08T11:22:51.428Z"
   },
   {
    "duration": 4,
    "start_time": "2022-11-08T11:22:51.812Z"
   },
   {
    "duration": 13,
    "start_time": "2022-11-08T11:22:53.030Z"
   },
   {
    "duration": 5,
    "start_time": "2022-11-08T11:22:54.080Z"
   },
   {
    "duration": 7,
    "start_time": "2022-11-08T11:23:00.079Z"
   },
   {
    "duration": 2,
    "start_time": "2022-11-08T11:23:01.137Z"
   },
   {
    "duration": 4,
    "start_time": "2022-11-08T11:23:03.016Z"
   },
   {
    "duration": 3,
    "start_time": "2022-11-08T11:23:03.540Z"
   },
   {
    "duration": 8,
    "start_time": "2022-11-08T11:23:04.975Z"
   },
   {
    "duration": 1324,
    "start_time": "2022-11-08T11:23:11.860Z"
   },
   {
    "duration": 341,
    "start_time": "2022-11-08T11:23:15.760Z"
   },
   {
    "duration": 5,
    "start_time": "2022-11-08T11:26:48.429Z"
   },
   {
    "duration": 13,
    "start_time": "2022-11-08T11:26:54.620Z"
   },
   {
    "duration": 11,
    "start_time": "2022-11-08T11:27:00.986Z"
   },
   {
    "duration": 4,
    "start_time": "2022-11-08T11:27:01.311Z"
   },
   {
    "duration": 11,
    "start_time": "2022-11-08T11:27:02.176Z"
   },
   {
    "duration": 5,
    "start_time": "2022-11-08T11:27:02.690Z"
   },
   {
    "duration": 7,
    "start_time": "2022-11-08T11:27:06.498Z"
   },
   {
    "duration": 3,
    "start_time": "2022-11-08T11:27:07.312Z"
   },
   {
    "duration": 3,
    "start_time": "2022-11-08T11:27:07.801Z"
   },
   {
    "duration": 4,
    "start_time": "2022-11-08T11:27:08.247Z"
   },
   {
    "duration": 1313,
    "start_time": "2022-11-08T11:27:09.354Z"
   },
   {
    "duration": 348,
    "start_time": "2022-11-08T11:27:10.819Z"
   },
   {
    "duration": 22,
    "start_time": "2022-11-08T11:32:05.450Z"
   },
   {
    "duration": 3226,
    "start_time": "2022-11-08T11:32:18.769Z"
   },
   {
    "duration": 3137,
    "start_time": "2022-11-08T11:32:46.649Z"
   },
   {
    "duration": 9,
    "start_time": "2022-11-08T11:33:53.980Z"
   },
   {
    "duration": 3163,
    "start_time": "2022-11-08T11:35:17.650Z"
   },
   {
    "duration": 4,
    "start_time": "2022-11-08T11:35:57.279Z"
   },
   {
    "duration": 3274,
    "start_time": "2022-11-08T11:35:58.640Z"
   },
   {
    "duration": 5,
    "start_time": "2022-11-08T11:36:06.647Z"
   },
   {
    "duration": 6,
    "start_time": "2022-11-08T11:37:16.975Z"
   },
   {
    "duration": 3492,
    "start_time": "2022-11-08T11:37:18.573Z"
   },
   {
    "duration": 5,
    "start_time": "2022-11-08T11:38:50.997Z"
   },
   {
    "duration": 2901,
    "start_time": "2022-11-08T11:38:52.560Z"
   },
   {
    "duration": 6,
    "start_time": "2022-11-08T11:39:05.935Z"
   },
   {
    "duration": 5,
    "start_time": "2022-11-08T11:39:13.767Z"
   },
   {
    "duration": 2616,
    "start_time": "2022-11-08T11:39:14.801Z"
   },
   {
    "duration": 5,
    "start_time": "2022-11-08T11:39:22.909Z"
   },
   {
    "duration": 2905,
    "start_time": "2022-11-08T11:39:23.137Z"
   },
   {
    "duration": 5,
    "start_time": "2022-11-08T11:39:44.935Z"
   },
   {
    "duration": 2826,
    "start_time": "2022-11-08T11:39:45.623Z"
   },
   {
    "duration": 6,
    "start_time": "2022-11-08T11:40:01.875Z"
   },
   {
    "duration": 2779,
    "start_time": "2022-11-08T11:40:02.082Z"
   },
   {
    "duration": 9,
    "start_time": "2022-11-08T11:59:51.684Z"
   },
   {
    "duration": 9,
    "start_time": "2022-11-08T12:00:36.116Z"
   },
   {
    "duration": 7,
    "start_time": "2022-11-08T12:01:03.863Z"
   },
   {
    "duration": 16,
    "start_time": "2022-11-08T12:01:06.396Z"
   },
   {
    "duration": 6,
    "start_time": "2022-11-08T12:01:07.006Z"
   },
   {
    "duration": 7,
    "start_time": "2022-11-08T12:01:09.888Z"
   },
   {
    "duration": 3,
    "start_time": "2022-11-08T12:01:10.990Z"
   },
   {
    "duration": 4,
    "start_time": "2022-11-08T12:01:11.455Z"
   },
   {
    "duration": 3,
    "start_time": "2022-11-08T12:01:11.938Z"
   },
   {
    "duration": 1340,
    "start_time": "2022-11-08T12:01:12.842Z"
   },
   {
    "duration": 336,
    "start_time": "2022-11-08T12:01:15.237Z"
   },
   {
    "duration": 13,
    "start_time": "2022-11-08T12:02:57.513Z"
   },
   {
    "duration": 8,
    "start_time": "2022-11-08T12:02:57.804Z"
   },
   {
    "duration": 14,
    "start_time": "2022-11-08T12:03:05.047Z"
   },
   {
    "duration": 15,
    "start_time": "2022-11-08T12:03:12.065Z"
   },
   {
    "duration": 4,
    "start_time": "2022-11-08T12:03:12.358Z"
   },
   {
    "duration": 11,
    "start_time": "2022-11-08T12:03:12.607Z"
   },
   {
    "duration": 9,
    "start_time": "2022-11-08T12:03:13.027Z"
   },
   {
    "duration": 20,
    "start_time": "2022-11-08T12:03:13.512Z"
   },
   {
    "duration": 5,
    "start_time": "2022-11-08T12:03:13.739Z"
   },
   {
    "duration": 8,
    "start_time": "2022-11-08T12:03:16.625Z"
   },
   {
    "duration": 3,
    "start_time": "2022-11-08T12:03:17.769Z"
   },
   {
    "duration": 4,
    "start_time": "2022-11-08T12:03:18.216Z"
   },
   {
    "duration": 4,
    "start_time": "2022-11-08T12:03:18.760Z"
   },
   {
    "duration": 1343,
    "start_time": "2022-11-08T12:03:19.500Z"
   },
   {
    "duration": 365,
    "start_time": "2022-11-08T12:03:20.845Z"
   },
   {
    "duration": 12,
    "start_time": "2022-11-08T12:03:41.737Z"
   },
   {
    "duration": 5,
    "start_time": "2022-11-08T12:03:42.035Z"
   },
   {
    "duration": 9,
    "start_time": "2022-11-08T12:03:42.426Z"
   },
   {
    "duration": 7,
    "start_time": "2022-11-08T12:03:42.762Z"
   },
   {
    "duration": 17,
    "start_time": "2022-11-08T12:03:43.327Z"
   },
   {
    "duration": 5,
    "start_time": "2022-11-08T12:03:43.584Z"
   },
   {
    "duration": 6,
    "start_time": "2022-11-08T12:03:44.236Z"
   },
   {
    "duration": 3,
    "start_time": "2022-11-08T12:03:44.719Z"
   },
   {
    "duration": 3,
    "start_time": "2022-11-08T12:03:45.005Z"
   },
   {
    "duration": 4,
    "start_time": "2022-11-08T12:03:45.314Z"
   },
   {
    "duration": 1376,
    "start_time": "2022-11-08T12:03:45.916Z"
   },
   {
    "duration": 382,
    "start_time": "2022-11-08T12:03:47.294Z"
   },
   {
    "duration": 1277,
    "start_time": "2022-11-08T12:07:25.921Z"
   },
   {
    "duration": 355,
    "start_time": "2022-11-08T12:07:27.200Z"
   },
   {
    "duration": 12,
    "start_time": "2022-11-08T12:07:54.726Z"
   },
   {
    "duration": 3,
    "start_time": "2022-11-08T12:07:55.104Z"
   },
   {
    "duration": 8,
    "start_time": "2022-11-08T12:07:55.472Z"
   },
   {
    "duration": 8,
    "start_time": "2022-11-08T12:07:55.816Z"
   },
   {
    "duration": 69,
    "start_time": "2022-11-08T12:07:56.463Z"
   },
   {
    "duration": 6,
    "start_time": "2022-11-08T12:07:56.742Z"
   },
   {
    "duration": 6,
    "start_time": "2022-11-08T12:07:58.404Z"
   },
   {
    "duration": 3,
    "start_time": "2022-11-08T12:07:59.210Z"
   },
   {
    "duration": 3,
    "start_time": "2022-11-08T12:07:59.753Z"
   },
   {
    "duration": 4,
    "start_time": "2022-11-08T12:08:00.665Z"
   },
   {
    "duration": 1105,
    "start_time": "2022-11-08T12:08:01.747Z"
   },
   {
    "duration": 316,
    "start_time": "2022-11-08T12:08:02.854Z"
   },
   {
    "duration": 11,
    "start_time": "2022-11-08T12:08:11.980Z"
   },
   {
    "duration": 4,
    "start_time": "2022-11-08T12:08:12.292Z"
   },
   {
    "duration": 9,
    "start_time": "2022-11-08T12:08:12.618Z"
   },
   {
    "duration": 8,
    "start_time": "2022-11-08T12:08:12.957Z"
   },
   {
    "duration": 18,
    "start_time": "2022-11-08T12:08:13.569Z"
   },
   {
    "duration": 5,
    "start_time": "2022-11-08T12:08:13.876Z"
   },
   {
    "duration": 6,
    "start_time": "2022-11-08T12:08:14.615Z"
   },
   {
    "duration": 3,
    "start_time": "2022-11-08T12:08:15.197Z"
   },
   {
    "duration": 3,
    "start_time": "2022-11-08T12:08:15.483Z"
   },
   {
    "duration": 3,
    "start_time": "2022-11-08T12:08:15.899Z"
   },
   {
    "duration": 1074,
    "start_time": "2022-11-08T12:08:16.615Z"
   },
   {
    "duration": 371,
    "start_time": "2022-11-08T12:08:17.692Z"
   },
   {
    "duration": 12,
    "start_time": "2022-11-08T12:08:39.227Z"
   },
   {
    "duration": 9,
    "start_time": "2022-11-08T12:08:39.241Z"
   },
   {
    "duration": 13,
    "start_time": "2022-11-08T12:08:39.252Z"
   },
   {
    "duration": 7,
    "start_time": "2022-11-08T12:08:39.267Z"
   },
   {
    "duration": 59,
    "start_time": "2022-11-08T12:08:39.275Z"
   },
   {
    "duration": 7,
    "start_time": "2022-11-08T12:08:39.339Z"
   },
   {
    "duration": 6,
    "start_time": "2022-11-08T12:08:39.912Z"
   },
   {
    "duration": 3,
    "start_time": "2022-11-08T12:08:40.130Z"
   },
   {
    "duration": 3,
    "start_time": "2022-11-08T12:08:40.338Z"
   },
   {
    "duration": 4,
    "start_time": "2022-11-08T12:08:40.641Z"
   },
   {
    "duration": 1083,
    "start_time": "2022-11-08T12:08:41.125Z"
   },
   {
    "duration": 332,
    "start_time": "2022-11-08T12:08:42.210Z"
   },
   {
    "duration": 3,
    "start_time": "2022-11-08T12:20:39.363Z"
   },
   {
    "duration": 1002,
    "start_time": "2022-11-08T12:20:39.369Z"
   },
   {
    "duration": 4,
    "start_time": "2022-11-08T12:20:40.372Z"
   },
   {
    "duration": 2879,
    "start_time": "2022-11-08T12:20:40.377Z"
   },
   {
    "duration": 11,
    "start_time": "2022-11-08T12:21:20.152Z"
   },
   {
    "duration": 8,
    "start_time": "2022-11-08T12:21:29.113Z"
   },
   {
    "duration": 375,
    "start_time": "2022-11-08T12:24:36.989Z"
   },
   {
    "duration": 4,
    "start_time": "2022-11-08T12:24:37.366Z"
   },
   {
    "duration": 2903,
    "start_time": "2022-11-08T12:24:47.659Z"
   },
   {
    "duration": 14,
    "start_time": "2022-11-08T12:24:57.921Z"
   },
   {
    "duration": 8,
    "start_time": "2022-11-08T12:25:18.111Z"
   },
   {
    "duration": 32,
    "start_time": "2022-11-08T12:27:24.145Z"
   },
   {
    "duration": 4,
    "start_time": "2022-11-08T12:29:23.165Z"
   },
   {
    "duration": 83,
    "start_time": "2022-11-08T12:42:03.540Z"
   },
   {
    "duration": 4,
    "start_time": "2022-11-08T12:43:05.191Z"
   },
   {
    "duration": 4,
    "start_time": "2022-11-08T12:43:12.862Z"
   },
   {
    "duration": 5,
    "start_time": "2022-11-08T12:44:03.157Z"
   },
   {
    "duration": 25,
    "start_time": "2022-11-08T12:47:32.989Z"
   },
   {
    "duration": 20,
    "start_time": "2022-11-08T13:17:32.029Z"
   },
   {
    "duration": 16,
    "start_time": "2022-11-08T13:17:45.890Z"
   },
   {
    "duration": 12,
    "start_time": "2022-11-08T13:17:53.838Z"
   },
   {
    "duration": 16,
    "start_time": "2022-11-08T13:17:58.570Z"
   },
   {
    "duration": 137,
    "start_time": "2022-11-08T13:18:48.397Z"
   },
   {
    "duration": 5,
    "start_time": "2022-11-08T13:20:29.071Z"
   },
   {
    "duration": 7,
    "start_time": "2022-11-08T13:23:07.568Z"
   },
   {
    "duration": 8,
    "start_time": "2022-11-08T13:23:15.650Z"
   },
   {
    "duration": 7,
    "start_time": "2022-11-08T13:23:56.078Z"
   },
   {
    "duration": 8,
    "start_time": "2022-11-08T13:24:34.568Z"
   },
   {
    "duration": 139,
    "start_time": "2022-11-08T13:25:46.095Z"
   },
   {
    "duration": 8,
    "start_time": "2022-11-08T13:25:48.557Z"
   },
   {
    "duration": 7,
    "start_time": "2022-11-08T13:26:12.381Z"
   },
   {
    "duration": 8,
    "start_time": "2022-11-08T13:26:16.950Z"
   },
   {
    "duration": 8,
    "start_time": "2022-11-08T13:29:51.194Z"
   },
   {
    "duration": 36,
    "start_time": "2022-11-08T13:32:46.966Z"
   },
   {
    "duration": 10,
    "start_time": "2022-11-08T13:33:24.507Z"
   },
   {
    "duration": 11,
    "start_time": "2022-11-08T13:33:39.295Z"
   },
   {
    "duration": 3,
    "start_time": "2022-11-08T13:34:35.562Z"
   },
   {
    "duration": 16,
    "start_time": "2022-11-08T13:42:18.615Z"
   },
   {
    "duration": 172,
    "start_time": "2022-11-08T13:44:13.162Z"
   },
   {
    "duration": 9,
    "start_time": "2022-11-08T13:44:14.006Z"
   },
   {
    "duration": 12,
    "start_time": "2022-11-08T13:44:17.580Z"
   },
   {
    "duration": 2,
    "start_time": "2022-11-08T13:44:22.582Z"
   },
   {
    "duration": 3,
    "start_time": "2022-11-08T13:44:23.035Z"
   },
   {
    "duration": 3,
    "start_time": "2022-11-08T13:44:23.478Z"
   },
   {
    "duration": 4609,
    "start_time": "2022-11-08T13:44:25.147Z"
   },
   {
    "duration": 4344,
    "start_time": "2022-11-08T13:44:53.619Z"
   },
   {
    "duration": 1457,
    "start_time": "2022-11-08T13:49:02.397Z"
   },
   {
    "duration": 1431,
    "start_time": "2022-11-08T13:50:22.804Z"
   },
   {
    "duration": 1444,
    "start_time": "2022-11-08T13:51:14.020Z"
   },
   {
    "duration": 1401,
    "start_time": "2022-11-08T13:52:52.541Z"
   },
   {
    "duration": 1416,
    "start_time": "2022-11-08T13:53:41.028Z"
   },
   {
    "duration": 4359,
    "start_time": "2022-11-08T13:54:53.377Z"
   },
   {
    "duration": 4682,
    "start_time": "2022-11-08T13:55:08.337Z"
   },
   {
    "duration": 5121,
    "start_time": "2022-11-08T13:57:45.814Z"
   },
   {
    "duration": 4265,
    "start_time": "2022-11-08T13:58:00.981Z"
   },
   {
    "duration": 31,
    "start_time": "2022-11-08T14:29:23.109Z"
   },
   {
    "duration": 5,
    "start_time": "2022-11-08T14:29:26.605Z"
   },
   {
    "duration": 25,
    "start_time": "2022-11-08T14:31:53.812Z"
   },
   {
    "duration": 118,
    "start_time": "2022-11-08T14:35:44.516Z"
   },
   {
    "duration": 10,
    "start_time": "2022-11-08T14:39:29.784Z"
   },
   {
    "duration": 4,
    "start_time": "2022-11-08T14:46:15.856Z"
   },
   {
    "duration": 1390,
    "start_time": "2022-11-09T09:44:54.607Z"
   },
   {
    "duration": 1349,
    "start_time": "2022-11-09T09:44:55.999Z"
   },
   {
    "duration": 4,
    "start_time": "2022-11-09T09:44:57.350Z"
   },
   {
    "duration": 2594,
    "start_time": "2022-11-09T09:44:57.356Z"
   },
   {
    "duration": 15,
    "start_time": "2022-11-09T09:44:59.951Z"
   },
   {
    "duration": 42,
    "start_time": "2022-11-09T09:44:59.967Z"
   },
   {
    "duration": 5,
    "start_time": "2022-11-09T09:45:00.011Z"
   },
   {
    "duration": 46,
    "start_time": "2022-11-09T09:45:00.017Z"
   },
   {
    "duration": 186,
    "start_time": "2022-11-09T09:45:00.065Z"
   },
   {
    "duration": 106,
    "start_time": "2022-11-09T09:45:00.254Z"
   },
   {
    "duration": 187,
    "start_time": "2022-11-09T09:45:00.361Z"
   },
   {
    "duration": 0,
    "start_time": "2022-11-09T09:45:00.550Z"
   },
   {
    "duration": 0,
    "start_time": "2022-11-09T09:45:00.551Z"
   },
   {
    "duration": 0,
    "start_time": "2022-11-09T09:45:00.552Z"
   },
   {
    "duration": 0,
    "start_time": "2022-11-09T09:45:00.553Z"
   },
   {
    "duration": 5,
    "start_time": "2022-11-09T10:09:19.971Z"
   },
   {
    "duration": 3,
    "start_time": "2022-11-09T10:15:50.546Z"
   },
   {
    "duration": 394,
    "start_time": "2022-11-09T10:15:50.552Z"
   },
   {
    "duration": 4,
    "start_time": "2022-11-09T10:15:50.948Z"
   },
   {
    "duration": 2597,
    "start_time": "2022-11-09T10:15:50.953Z"
   },
   {
    "duration": 13,
    "start_time": "2022-11-09T10:15:53.553Z"
   },
   {
    "duration": 30,
    "start_time": "2022-11-09T10:15:53.568Z"
   },
   {
    "duration": 5,
    "start_time": "2022-11-09T10:15:53.599Z"
   },
   {
    "duration": 42,
    "start_time": "2022-11-09T10:15:53.606Z"
   },
   {
    "duration": 199,
    "start_time": "2022-11-09T10:15:53.649Z"
   },
   {
    "duration": 101,
    "start_time": "2022-11-09T10:15:53.853Z"
   },
   {
    "duration": 17,
    "start_time": "2022-11-09T10:15:53.956Z"
   },
   {
    "duration": 3,
    "start_time": "2022-11-09T10:16:02.429Z"
   },
   {
    "duration": 3,
    "start_time": "2022-11-09T10:16:08.002Z"
   },
   {
    "duration": 8,
    "start_time": "2022-11-09T10:16:08.007Z"
   },
   {
    "duration": 4104,
    "start_time": "2022-11-09T10:16:08.017Z"
   },
   {
    "duration": 1513,
    "start_time": "2022-11-09T10:31:33.941Z"
   },
   {
    "duration": 362,
    "start_time": "2022-11-09T10:31:35.457Z"
   },
   {
    "duration": 4,
    "start_time": "2022-11-09T10:31:35.821Z"
   },
   {
    "duration": 2641,
    "start_time": "2022-11-09T10:31:35.827Z"
   },
   {
    "duration": 15,
    "start_time": "2022-11-09T10:31:38.471Z"
   },
   {
    "duration": 38,
    "start_time": "2022-11-09T10:31:38.488Z"
   },
   {
    "duration": 23,
    "start_time": "2022-11-09T10:31:38.528Z"
   },
   {
    "duration": 35,
    "start_time": "2022-11-09T10:31:38.553Z"
   },
   {
    "duration": 164,
    "start_time": "2022-11-09T10:31:38.589Z"
   },
   {
    "duration": 93,
    "start_time": "2022-11-09T10:31:38.756Z"
   },
   {
    "duration": 199,
    "start_time": "2022-11-09T10:31:38.851Z"
   },
   {
    "duration": 0,
    "start_time": "2022-11-09T10:31:39.051Z"
   },
   {
    "duration": 0,
    "start_time": "2022-11-09T10:31:39.052Z"
   },
   {
    "duration": 0,
    "start_time": "2022-11-09T10:31:39.053Z"
   },
   {
    "duration": 0,
    "start_time": "2022-11-09T10:31:39.055Z"
   },
   {
    "duration": 1488,
    "start_time": "2022-11-09T11:14:07.858Z"
   },
   {
    "duration": 1441,
    "start_time": "2022-11-09T11:15:05.000Z"
   },
   {
    "duration": 8,
    "start_time": "2022-11-09T11:15:20.666Z"
   },
   {
    "duration": 19,
    "start_time": "2022-11-09T11:15:43.950Z"
   },
   {
    "duration": 21,
    "start_time": "2022-11-09T11:15:59.438Z"
   },
   {
    "duration": 20,
    "start_time": "2022-11-09T11:16:02.181Z"
   },
   {
    "duration": 14,
    "start_time": "2022-11-09T11:16:51.915Z"
   },
   {
    "duration": 25,
    "start_time": "2022-11-09T11:17:18.894Z"
   },
   {
    "duration": 129,
    "start_time": "2022-11-09T11:18:02.109Z"
   },
   {
    "duration": 14,
    "start_time": "2022-11-09T11:18:13.741Z"
   },
   {
    "duration": 15,
    "start_time": "2022-11-09T11:18:41.992Z"
   },
   {
    "duration": 13,
    "start_time": "2022-11-09T11:18:48.104Z"
   },
   {
    "duration": 12,
    "start_time": "2022-11-09T11:18:52.971Z"
   },
   {
    "duration": 14,
    "start_time": "2022-11-09T11:18:59.003Z"
   },
   {
    "duration": 17,
    "start_time": "2022-11-09T11:19:04.141Z"
   },
   {
    "duration": 4,
    "start_time": "2022-11-09T11:20:16.388Z"
   },
   {
    "duration": 3013,
    "start_time": "2022-11-09T11:20:19.841Z"
   },
   {
    "duration": 13,
    "start_time": "2022-11-09T11:37:20.460Z"
   },
   {
    "duration": 16,
    "start_time": "2022-11-09T11:37:26.860Z"
   },
   {
    "duration": 38,
    "start_time": "2022-11-09T11:37:28.041Z"
   },
   {
    "duration": 5,
    "start_time": "2022-11-09T11:37:28.409Z"
   },
   {
    "duration": 26,
    "start_time": "2022-11-09T11:37:29.334Z"
   },
   {
    "duration": 43,
    "start_time": "2022-11-09T11:37:30.481Z"
   },
   {
    "duration": 9,
    "start_time": "2022-11-09T11:37:31.780Z"
   },
   {
    "duration": 13,
    "start_time": "2022-11-09T11:37:32.988Z"
   },
   {
    "duration": 2,
    "start_time": "2022-11-09T11:39:21.221Z"
   },
   {
    "duration": 4,
    "start_time": "2022-11-09T11:39:58.108Z"
   },
   {
    "duration": 4,
    "start_time": "2022-11-09T11:45:13.646Z"
   },
   {
    "duration": 13,
    "start_time": "2022-11-09T11:49:29.504Z"
   },
   {
    "duration": 4705,
    "start_time": "2022-11-09T11:49:51.289Z"
   },
   {
    "duration": 1448,
    "start_time": "2022-11-09T11:51:04.723Z"
   },
   {
    "duration": 414,
    "start_time": "2022-11-09T11:51:06.173Z"
   },
   {
    "duration": 6,
    "start_time": "2022-11-09T11:51:06.589Z"
   },
   {
    "duration": 3133,
    "start_time": "2022-11-09T11:51:06.597Z"
   },
   {
    "duration": 16,
    "start_time": "2022-11-09T11:51:09.732Z"
   },
   {
    "duration": 59,
    "start_time": "2022-11-09T11:51:09.750Z"
   },
   {
    "duration": 5,
    "start_time": "2022-11-09T11:51:09.812Z"
   },
   {
    "duration": 66,
    "start_time": "2022-11-09T11:51:09.820Z"
   },
   {
    "duration": 136,
    "start_time": "2022-11-09T11:51:09.888Z"
   },
   {
    "duration": 195,
    "start_time": "2022-11-09T11:51:10.026Z"
   },
   {
    "duration": 18,
    "start_time": "2022-11-09T11:51:10.222Z"
   },
   {
    "duration": 2,
    "start_time": "2022-11-09T11:51:10.242Z"
   },
   {
    "duration": 11,
    "start_time": "2022-11-09T11:51:10.246Z"
   },
   {
    "duration": 12,
    "start_time": "2022-11-09T11:51:10.260Z"
   },
   {
    "duration": 4650,
    "start_time": "2022-11-09T11:51:10.274Z"
   },
   {
    "duration": 1417,
    "start_time": "2022-11-09T11:58:22.697Z"
   },
   {
    "duration": 380,
    "start_time": "2022-11-09T11:58:24.116Z"
   },
   {
    "duration": 5,
    "start_time": "2022-11-09T11:58:24.497Z"
   },
   {
    "duration": 3169,
    "start_time": "2022-11-09T11:58:24.505Z"
   },
   {
    "duration": 16,
    "start_time": "2022-11-09T11:58:27.676Z"
   },
   {
    "duration": 55,
    "start_time": "2022-11-09T11:58:27.694Z"
   },
   {
    "duration": 4,
    "start_time": "2022-11-09T11:58:27.751Z"
   },
   {
    "duration": 32,
    "start_time": "2022-11-09T11:58:27.757Z"
   },
   {
    "duration": 230,
    "start_time": "2022-11-09T11:58:27.791Z"
   },
   {
    "duration": 102,
    "start_time": "2022-11-09T11:58:28.024Z"
   },
   {
    "duration": 13,
    "start_time": "2022-11-09T11:58:28.128Z"
   },
   {
    "duration": 3,
    "start_time": "2022-11-09T11:58:28.144Z"
   },
   {
    "duration": 11,
    "start_time": "2022-11-09T11:58:28.149Z"
   },
   {
    "duration": 6,
    "start_time": "2022-11-09T11:58:28.162Z"
   },
   {
    "duration": 4669,
    "start_time": "2022-11-09T11:58:28.170Z"
   },
   {
    "duration": 1535,
    "start_time": "2022-11-09T14:13:31.630Z"
   },
   {
    "duration": 830,
    "start_time": "2022-11-09T14:13:33.167Z"
   },
   {
    "duration": 6,
    "start_time": "2022-11-09T14:13:33.998Z"
   },
   {
    "duration": 2927,
    "start_time": "2022-11-09T14:13:34.006Z"
   },
   {
    "duration": 14,
    "start_time": "2022-11-09T14:13:36.936Z"
   },
   {
    "duration": 39,
    "start_time": "2022-11-09T14:13:36.952Z"
   },
   {
    "duration": 5,
    "start_time": "2022-11-09T14:13:36.992Z"
   },
   {
    "duration": 47,
    "start_time": "2022-11-09T14:13:36.999Z"
   },
   {
    "duration": 184,
    "start_time": "2022-11-09T14:13:37.048Z"
   },
   {
    "duration": 97,
    "start_time": "2022-11-09T14:13:37.235Z"
   },
   {
    "duration": 14,
    "start_time": "2022-11-09T14:13:37.334Z"
   },
   {
    "duration": 4,
    "start_time": "2022-11-09T14:13:37.349Z"
   },
   {
    "duration": 7,
    "start_time": "2022-11-09T14:13:37.354Z"
   },
   {
    "duration": 8,
    "start_time": "2022-11-09T14:13:37.364Z"
   },
   {
    "duration": 4466,
    "start_time": "2022-11-09T14:13:37.373Z"
   }
  ],
  "kernelspec": {
   "display_name": "Python 3 (ipykernel)",
   "language": "python",
   "name": "python3"
  },
  "language_info": {
   "codemirror_mode": {
    "name": "ipython",
    "version": 3
   },
   "file_extension": ".py",
   "mimetype": "text/x-python",
   "name": "python",
   "nbconvert_exporter": "python",
   "pygments_lexer": "ipython3",
   "version": "3.10.10"
  },
  "toc": {
   "base_numbering": 1,
   "nav_menu": {},
   "number_sections": true,
   "sideBar": true,
   "skip_h1_title": true,
   "title_cell": "Table of Contents",
   "title_sidebar": "Contents",
   "toc_cell": false,
   "toc_position": {},
   "toc_section_display": true,
   "toc_window_display": false
  }
 },
 "nbformat": 4,
 "nbformat_minor": 4
}
