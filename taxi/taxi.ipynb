{
 "cells": [
  {
   "cell_type": "markdown",
   "metadata": {},
   "source": [
    "# Прогнозирование заказов такси\n",
    "\n",
    "### Задача\n",
    "\n",
    "---\n",
    "\n",
    "Для сервиса такси нужно построить модель, которая будет предсказывать количество заказов такси в аэропортах на следующий час. Таким образом можно будет привлекать больше водителей в период пиковой нагрузки.\n",
    "\n",
    "*Условие*: значение метрики RMSE на тесте должно быть не больше 48.\n",
    "\n",
    "### Данные\n",
    "\n",
    "---\n",
    "\n",
    "В нашем распоряжении есть исторические данные о заказах такси.\n",
    "\n",
    "Описание данных:\n",
    "- `datetime` - момент времени\n",
    "- `num_orders` - количество заказов\n",
    "\n",
    "### План проекта:\n",
    "\n",
    "---\n",
    "\n",
    "1. Предобработка данных.\n",
    "    - Загрузка данных, ресемплирование данных. Создание признаков.\n",
    "2. Анализ данных.\n",
    "    - Поиск тренда и сезонностей.\n",
    "3. Обучение моделей.\n",
    "    - Линейная регрессия, RandomForest, LightGBM, CatBoost. \n",
    "4. Вывод.\n",
    "\n",
    "---"
   ]
  },
  {
   "cell_type": "markdown",
   "metadata": {},
   "source": [
    "## Предобработка данных"
   ]
  },
  {
   "cell_type": "code",
   "execution_count": 1,
   "metadata": {
    "tags": []
   },
   "outputs": [],
   "source": [
    "import matplotlib.pyplot as plt\n",
    "import pandas as pd\n",
    "\n",
    "from statsmodels.tsa.seasonal import seasonal_decompose\n",
    "\n",
    "from sklearn.pipeline import Pipeline\n",
    "from sklearn.preprocessing import StandardScaler\n",
    "\n",
    "from sklearn.metrics import mean_squared_error\n",
    "from sklearn.model_selection import cross_val_score\n",
    "from sklearn.model_selection import GridSearchCV\n",
    "from sklearn.model_selection import TimeSeriesSplit\n",
    "from sklearn.model_selection import train_test_split\n",
    "\n",
    "from catboost import CatBoostRegressor\n",
    "from lightgbm import LGBMRegressor\n",
    "from sklearn.ensemble import RandomForestRegressor\n",
    "from sklearn.linear_model import LinearRegression"
   ]
  },
  {
   "cell_type": "code",
   "execution_count": 2,
   "metadata": {
    "tags": []
   },
   "outputs": [],
   "source": [
    "RANDOM_STATE = 42"
   ]
  },
  {
   "cell_type": "markdown",
   "metadata": {},
   "source": [
    "### Чтение данных\n",
    "\n",
    "При чтении данных в датафрейм укажем в качестве индекса колонку `datetime` и сразу же приведем ее к типу *datetime64*."
   ]
  },
  {
   "cell_type": "code",
   "execution_count": 3,
   "metadata": {
    "tags": []
   },
   "outputs": [],
   "source": [
    "data = pd.read_csv(\"../datasets/taxi.csv\", index_col=[0], parse_dates=[0])"
   ]
  },
  {
   "cell_type": "markdown",
   "metadata": {},
   "source": [
    "Проверим, расположены ли записи в хронологическом порядке. Если нет, то отсортируем их. Также проверим на наличие дубликатов."
   ]
  },
  {
   "cell_type": "code",
   "execution_count": 4,
   "metadata": {
    "tags": []
   },
   "outputs": [
    {
     "data": {
      "text/html": [
       "<div>\n",
       "<style scoped>\n",
       "    .dataframe tbody tr th:only-of-type {\n",
       "        vertical-align: middle;\n",
       "    }\n",
       "\n",
       "    .dataframe tbody tr th {\n",
       "        vertical-align: top;\n",
       "    }\n",
       "\n",
       "    .dataframe thead th {\n",
       "        text-align: right;\n",
       "    }\n",
       "</style>\n",
       "<table border=\"1\" class=\"dataframe\">\n",
       "  <thead>\n",
       "    <tr style=\"text-align: right;\">\n",
       "      <th></th>\n",
       "      <th>num_orders</th>\n",
       "    </tr>\n",
       "    <tr>\n",
       "      <th>datetime</th>\n",
       "      <th></th>\n",
       "    </tr>\n",
       "  </thead>\n",
       "  <tbody>\n",
       "    <tr>\n",
       "      <th>2018-03-01 00:00:00</th>\n",
       "      <td>9</td>\n",
       "    </tr>\n",
       "    <tr>\n",
       "      <th>2018-03-01 00:10:00</th>\n",
       "      <td>14</td>\n",
       "    </tr>\n",
       "    <tr>\n",
       "      <th>2018-03-01 00:20:00</th>\n",
       "      <td>28</td>\n",
       "    </tr>\n",
       "    <tr>\n",
       "      <th>2018-03-01 00:30:00</th>\n",
       "      <td>20</td>\n",
       "    </tr>\n",
       "    <tr>\n",
       "      <th>2018-03-01 00:40:00</th>\n",
       "      <td>32</td>\n",
       "    </tr>\n",
       "  </tbody>\n",
       "</table>\n",
       "</div>"
      ],
      "text/plain": [
       "                     num_orders\n",
       "datetime                       \n",
       "2018-03-01 00:00:00           9\n",
       "2018-03-01 00:10:00          14\n",
       "2018-03-01 00:20:00          28\n",
       "2018-03-01 00:30:00          20\n",
       "2018-03-01 00:40:00          32"
      ]
     },
     "metadata": {},
     "output_type": "display_data"
    },
    {
     "name": "stdout",
     "output_type": "stream",
     "text": [
      "<class 'pandas.core.frame.DataFrame'>\n",
      "DatetimeIndex: 26496 entries, 2018-03-01 00:00:00 to 2018-08-31 23:50:00\n",
      "Data columns (total 1 columns):\n",
      " #   Column      Non-Null Count  Dtype\n",
      "---  ------      --------------  -----\n",
      " 0   num_orders  26496 non-null  int64\n",
      "dtypes: int64(1)\n",
      "memory usage: 414.0 KB\n",
      "None\n",
      "Дубликатов нет\n"
     ]
    }
   ],
   "source": [
    "if not data.index.is_monotonic_increasing:\n",
    "    data.sort_index(inplace=True)\n",
    "\n",
    "display(data.head())\n",
    "print(data.info())\n",
    "print(\"Дубликатов нет\") if data.index.is_unique else print(\"Есть дубликаты\")"
   ]
  },
  {
   "cell_type": "markdown",
   "metadata": {},
   "source": [
    "### Ресемплирование\n",
    "\n",
    "Так как нам нужно предсказывать количество заказов такси на каждый час, то ресемплируем данные по интервалу в один час и посчитаем суммарное количество заказов. "
   ]
  },
  {
   "cell_type": "code",
   "execution_count": 5,
   "metadata": {
    "tags": []
   },
   "outputs": [],
   "source": [
    "data = data.resample('1H').sum()"
   ]
  },
  {
   "cell_type": "markdown",
   "metadata": {},
   "source": [
    "### Создание признаков\n",
    "\n",
    "Напишем функцию для создания признаков. Среди признаков будут: календарные признаки (месяц, день, день недели, час), отстающие (lag) значения, скользящее среднее."
   ]
  },
  {
   "cell_type": "code",
   "execution_count": 6,
   "metadata": {
    "tags": []
   },
   "outputs": [],
   "source": [
    "def make_features(data, max_lag, rolling_mean_size):\n",
    "    \n",
    "    result = data.copy()\n",
    "    \n",
    "    result['month'] = data.index.month\n",
    "    result['day'] = data.index.day\n",
    "    result['dayofweek'] = data.index.dayofweek\n",
    "    result['hour'] = data.index.hour\n",
    "    \n",
    "    for lag in range(1, max_lag + 1):\n",
    "        result['lag_{}'.format(lag)] = data['num_orders'].shift(lag)\n",
    "\n",
    "    result['rolling_mean'] = data['num_orders'].shift().rolling(rolling_mean_size).mean()\n",
    "    \n",
    "    return result"
   ]
  },
  {
   "cell_type": "code",
   "execution_count": 7,
   "metadata": {
    "tags": []
   },
   "outputs": [],
   "source": [
    "data_ext = make_features(data, 24, 4)"
   ]
  },
  {
   "cell_type": "markdown",
   "metadata": {},
   "source": [
    "## Анализ данных\n",
    "\n",
    "Проанализируем временной ряд.\n",
    "\n",
    "У нас есть данные за период в полгода: от '2018-03-01 00' до '2018-08-31 23'. Попробуем обнаружить тренд за этот период, а также сезонные изменения в пределах недели и дня."
   ]
  },
  {
   "cell_type": "markdown",
   "metadata": {},
   "source": [
    "### Тренд\n",
    "\n",
    "Чтобы не мешала периодичность более высокого порядка, ресемплируем данные по дням."
   ]
  },
  {
   "cell_type": "code",
   "execution_count": 8,
   "metadata": {},
   "outputs": [],
   "source": [
    "decomposed_day = seasonal_decompose(data.resample('1D').sum())"
   ]
  },
  {
   "cell_type": "code",
   "execution_count": 9,
   "metadata": {},
   "outputs": [
    {
     "data": {
      "image/png": "[encoded data removed]",
      "text/plain": [
       "<Figure size 800x300 with 1 Axes>"
      ]
     },
     "metadata": {},
     "output_type": "display_data"
    }
   ],
   "source": [
    "plt.figure(figsize=(8, 3))\n",
    "decomposed_day.trend.plot(title='Trend')\n",
    "plt.show()"
   ]
  },
  {
   "cell_type": "markdown",
   "metadata": {},
   "source": [
    "На графике хорошо прослеживается рост числа заказов такси в аэропорт за полгода."
   ]
  },
  {
   "cell_type": "markdown",
   "metadata": {},
   "source": [
    "### Сезонность\n",
    "\n",
    "Посмотрим, как изменяется число заказов такси в течение **недели**."
   ]
  },
  {
   "cell_type": "code",
   "execution_count": 10,
   "metadata": {},
   "outputs": [
    {
     "data": {
      "image/png": "[encoded data removed]",
      "text/plain": [
       "<Figure size 800x300 with 1 Axes>"
      ]
     },
     "metadata": {},
     "output_type": "display_data"
    }
   ],
   "source": [
    "plt.figure(figsize=(8, 3))\n",
    "decomposed_day.seasonal['2018-03-01':'2018-03-15'].plot(title='Weekly seasonality')\n",
    "plt.show()"
   ]
  },
  {
   "cell_type": "markdown",
   "metadata": {},
   "source": [
    "Здесь видны пики в пятницу и понедельник. То есть больше всего заказов такси в аэропорт приходится на начало и конец рабочей недели.\n",
    "\n",
    "Посмотрим, как изменяется число заказов такси в течение **дня**. Для этого воспользуемся ресемплингом по часам."
   ]
  },
  {
   "cell_type": "code",
   "execution_count": 11,
   "metadata": {},
   "outputs": [],
   "source": [
    "decomposed_hour = seasonal_decompose(data)"
   ]
  },
  {
   "cell_type": "code",
   "execution_count": 12,
   "metadata": {},
   "outputs": [
    {
     "data": {
      "image/png": "[encoded data removed]",
      "text/plain": [
       "<Figure size 800x300 with 1 Axes>"
      ]
     },
     "metadata": {},
     "output_type": "display_data"
    }
   ],
   "source": [
    "plt.figure(figsize=(8, 3))\n",
    "decomposed_hour.seasonal['2018-03-01':'2018-03-2'].plot(title='Daily seasonality')\n",
    "plt.show()"
   ]
  },
  {
   "cell_type": "markdown",
   "metadata": {},
   "source": [
    "Судя по графику, самое непопулярное время - 6:00. Затем в течение дня наблюдаются несколько пиков: в ~10:00, в ~16:00 и самое загруженное время - в ~00:00."
   ]
  },
  {
   "cell_type": "markdown",
   "metadata": {},
   "source": [
    "## Обучение\n",
    "\n",
    "Разделим данные на обучающую и тестовую выборки в соотношении 9:1."
   ]
  },
  {
   "cell_type": "code",
   "execution_count": 13,
   "metadata": {
    "tags": []
   },
   "outputs": [],
   "source": [
    "data_ext.dropna(inplace=True)\n",
    "\n",
    "X = data_ext.drop('num_orders', axis=1)\n",
    "y = data_ext['num_orders']\n",
    "\n",
    "X_train, X_test, y_train, y_test = train_test_split(X, y, shuffle=False, test_size=0.1)"
   ]
  },
  {
   "cell_type": "code",
   "execution_count": 14,
   "metadata": {
    "tags": []
   },
   "outputs": [
    {
     "name": "stdout",
     "output_type": "stream",
     "text": [
      "Размеры выборок:\n",
      "train - 3952 - 89%\n",
      "test - 440 - 10%\n"
     ]
    }
   ],
   "source": [
    "print('Размеры выборок:')\n",
    "print(f'train - {len(X_train)} - {len(X_train)/len(data):.0%}')\n",
    "print(f'test - {len(X_test)} - {len(X_test)/len(data):.0%}')"
   ]
  },
  {
   "cell_type": "markdown",
   "metadata": {},
   "source": [
    "Обучим четыре модели: линейную регрессию, случайный лес, LightGBM и CatBoost.  Для последних трех применим поиск гиперпараметров через GridSearchCV. Качество моделей оценим кросс-валидацией с метрикой RMSE и разделением на фолды TimeSeriesSplit."
   ]
  },
  {
   "cell_type": "code",
   "execution_count": 15,
   "metadata": {
    "tags": []
   },
   "outputs": [],
   "source": [
    "tscv = TimeSeriesSplit(n_splits=4)"
   ]
  },
  {
   "cell_type": "code",
   "execution_count": 16,
   "metadata": {
    "tags": []
   },
   "outputs": [],
   "source": [
    "def fit_model(estimator, param_grid, X_train, y_train):\n",
    "    # подбирает лучшую модель с помощью гридсерча и выводит rmse и параметры лучшей модели;\n",
    "    # разделение на фолды через TimeSeriesSplit\n",
    "    model = GridSearchCV(estimator=estimator, \n",
    "                            param_grid=param_grid, \n",
    "                            n_jobs=-1, \n",
    "                            cv=tscv,\n",
    "                            scoring='neg_root_mean_squared_error')\n",
    "\n",
    "    model.fit(X_train, y_train)\n",
    "\n",
    "    best_index = model.best_index_\n",
    "    best_rmse = round(model.cv_results_['mean_test_score'][best_index], 1)\n",
    "\n",
    "    print(f\"Best RMSE: {abs(best_rmse)}\")\n",
    "    print(f\"Best params: {model.best_params_}\")\n",
    "\n",
    "    return model.best_estimator_"
   ]
  },
  {
   "cell_type": "markdown",
   "metadata": {},
   "source": [
    "**1) Линейная регрессия**"
   ]
  },
  {
   "cell_type": "code",
   "execution_count": 17,
   "metadata": {
    "tags": []
   },
   "outputs": [
    {
     "name": "stdout",
     "output_type": "stream",
     "text": [
      "RMSE: 27.2\n"
     ]
    }
   ],
   "source": [
    "lr_estimator = Pipeline([\n",
    "    ('scaler', StandardScaler()),\n",
    "    ('lr', LinearRegression())\n",
    "])\n",
    "\n",
    "scores = cross_val_score(lr_estimator, X_train, y_train, scoring='neg_root_mean_squared_error', cv=tscv)\n",
    "\n",
    "rmse = scores.mean()\n",
    "print(f\"RMSE: {abs(rmse):.1f}\")"
   ]
  },
  {
   "cell_type": "markdown",
   "metadata": {},
   "source": [
    "**2) RandomForestRegressor**"
   ]
  },
  {
   "cell_type": "code",
   "execution_count": 18,
   "metadata": {
    "tags": []
   },
   "outputs": [
    {
     "name": "stdout",
     "output_type": "stream",
     "text": [
      "Best RMSE: 25.9\n",
      "Best params: {'max_depth': 13, 'n_estimators': 80}\n",
      "CPU times: total: 16.8 s\n",
      "Wall time: 1min 26s\n"
     ]
    }
   ],
   "source": [
    "%%time\n",
    "rf_param_grid = {\n",
    "    'n_estimators': list(range(50, 121, 10)),\n",
    "    \"max_depth\": list(range(7, 16, 2)),\n",
    "}\n",
    "\n",
    "rf_best_model = fit_model(\n",
    "    estimator=RandomForestRegressor(random_state=RANDOM_STATE, n_jobs=-1),\n",
    "    param_grid=rf_param_grid,\n",
    "    X_train=X_train,\n",
    "    y_train=y_train\n",
    ")"
   ]
  },
  {
   "cell_type": "markdown",
   "metadata": {},
   "source": [
    "**3) LGBMRegressor**"
   ]
  },
  {
   "cell_type": "code",
   "execution_count": 19,
   "metadata": {
    "tags": []
   },
   "outputs": [
    {
     "name": "stdout",
     "output_type": "stream",
     "text": [
      "Best RMSE: 25.3\n",
      "Best params: {'learning_rate': 0.1, 'max_depth': 4, 'n_estimators': 145}\n",
      "CPU times: total: 4.34 s\n",
      "Wall time: 37.3 s\n"
     ]
    }
   ],
   "source": [
    "%%time\n",
    "lgbm_param_grid = {\n",
    "    \"n_estimators\": range(100, 201, 15), \n",
    "    \"max_depth\": range(2, 9, 2),\n",
    "    'learning_rate': [0.01, 0.05, 0.1]\n",
    "}\n",
    "\n",
    "lgbm_best_model = fit_model(\n",
    "    estimator=LGBMRegressor(random_state=RANDOM_STATE, n_jobs=-1, verbose=-1),\n",
    "    param_grid=lgbm_param_grid,\n",
    "    X_train=X_train,\n",
    "    y_train=y_train\n",
    ")"
   ]
  },
  {
   "cell_type": "markdown",
   "metadata": {},
   "source": [
    "**4) CatBoostRegressor**"
   ]
  },
  {
   "cell_type": "code",
   "execution_count": 20,
   "metadata": {
    "tags": []
   },
   "outputs": [
    {
     "name": "stdout",
     "output_type": "stream",
     "text": [
      "Best RMSE: 25.0\n",
      "Best params: {'depth': 5, 'iterations': 250, 'learning_rate': 0.1}\n",
      "CPU times: total: 11.9 s\n",
      "Wall time: 15min 19s\n"
     ]
    }
   ],
   "source": [
    "%%time\n",
    "catboost_param_grid = {\n",
    "    \"iterations\": range(150, 301, 50),\n",
    "    \"learning_rate\": [0.05, 0.1, 0.15],\n",
    "    \"depth\": range(2, 12, 3)\n",
    "}\n",
    "\n",
    "catboost_best_model = fit_model(\n",
    "    estimator=CatBoostRegressor(random_state=RANDOM_STATE, verbose=False),\n",
    "    param_grid=catboost_param_grid,\n",
    "    X_train=X_train,\n",
    "    y_train=y_train\n",
    ")"
   ]
  },
  {
   "cell_type": "markdown",
   "metadata": {},
   "source": [
    "В качестве лучшей модели выберем CatBoostRegressor, так как метрика rmse у нее лучше остальных."
   ]
  },
  {
   "cell_type": "markdown",
   "metadata": {},
   "source": [
    "### Тестирование"
   ]
  },
  {
   "cell_type": "markdown",
   "metadata": {},
   "source": [
    "Проверим качесто выбранной модели на тестовой выборке."
   ]
  },
  {
   "cell_type": "code",
   "execution_count": 21,
   "metadata": {
    "tags": []
   },
   "outputs": [
    {
     "name": "stdout",
     "output_type": "stream",
     "text": [
      "RMSE на тестовой: 39.8\n"
     ]
    }
   ],
   "source": [
    "pred = catboost_best_model.predict(X_test)\n",
    "\n",
    "rmse = mean_squared_error(y_test, pred) ** 0.5\n",
    "print(f\"RMSE на тестовой: {rmse:.1f}\")"
   ]
  },
  {
   "cell_type": "markdown",
   "metadata": {},
   "source": [
    "Посмотрим на графике насколько хорошо модель предсказывает временной ряд."
   ]
  },
  {
   "cell_type": "code",
   "execution_count": 22,
   "metadata": {
    "tags": []
   },
   "outputs": [
    {
     "data": {
      "image/png": "[encoded data removed]",
      "text/plain": [
       "<Figure size 800x300 with 1 Axes>"
      ]
     },
     "metadata": {},
     "output_type": "display_data"
    }
   ],
   "source": [
    "pred = pd.Series(pred, index=y_test.index)\n",
    "\n",
    "plt.figure(figsize=(8, 3))\n",
    "y_test.plot(label='true', title='Test')\n",
    "pred.plot(label='predicted')\n",
    "plt.legend()\n",
    "plt.show()"
   ]
  },
  {
   "cell_type": "markdown",
   "metadata": {},
   "source": [
    "## Вывод\n",
    "\n",
    "Целью проекта было создание модели для предсказания количества заказов такси на следующий час. В нашем распоряжении были историчекие данные за полгода о заказах такси в аэропортах. Для анализа и обучения модели мы ресемплировали данные по одному часу.\n",
    "\n",
    "В ходе анализа данных был обнаружен тренд на увеличение числа заказов такси с марта по август 2018 г, а также были найдены две сезонные компоненты: недельная - больше всего заказов такси в начале и конце рабочей недели; суточная - пики заказов в 10, 16 и 00 часов и минимум в 6 утра.\n",
    "\n",
    "Для обучения моделей были созданы признаки: календарные признаки (месяц, день, день недели, час), отстающие (lag) значения - 24 шт, скользящее среднее по 4 точкам.\n",
    "\n",
    "Мы рассмотрели четыре модели: линейную регрессию, случайный лес, LightGBM и CatBoost. Среди этих моделей по метрике RMSE лучшей оказалась **CatBoostRegressor** с параметрами: 'depth' = 5, 'iterations' = 250, 'learning_rate' = 0.1. На тестовой выборке лучшая модель показала RMSE = 39.8, что лучше требуемой RMSE = 48."
   ]
  }
 ],
 "metadata": {
  "ExecuteTimeLog": [
   {
    "duration": 49,
    "start_time": "2022-12-27T10:24:18.962Z"
   },
   {
    "duration": 1276,
    "start_time": "2022-12-27T10:24:21.746Z"
   },
   {
    "duration": 131,
    "start_time": "2022-12-27T10:24:23.024Z"
   },
   {
    "duration": 87,
    "start_time": "2022-12-27T10:25:05.589Z"
   },
   {
    "duration": 11,
    "start_time": "2022-12-27T10:25:12.356Z"
   },
   {
    "duration": 24,
    "start_time": "2022-12-27T10:25:40.790Z"
   },
   {
    "duration": 23,
    "start_time": "2022-12-27T10:26:01.358Z"
   },
   {
    "duration": 36,
    "start_time": "2022-12-27T10:26:44.912Z"
   },
   {
    "duration": 225,
    "start_time": "2022-12-27T10:26:47.159Z"
   },
   {
    "duration": 41,
    "start_time": "2022-12-27T10:27:30.621Z"
   },
   {
    "duration": 25,
    "start_time": "2022-12-27T10:27:51.982Z"
   },
   {
    "duration": 93,
    "start_time": "2022-12-27T10:32:47.624Z"
   },
   {
    "duration": 16,
    "start_time": "2022-12-27T10:32:50.352Z"
   },
   {
    "duration": 14,
    "start_time": "2022-12-27T10:33:09.761Z"
   },
   {
    "duration": 9,
    "start_time": "2022-12-27T10:33:33.869Z"
   },
   {
    "duration": 8,
    "start_time": "2022-12-27T10:34:18.490Z"
   },
   {
    "duration": 10,
    "start_time": "2022-12-27T10:34:33.124Z"
   },
   {
    "duration": 9,
    "start_time": "2022-12-27T10:34:44.401Z"
   },
   {
    "duration": 9,
    "start_time": "2022-12-27T10:34:51.827Z"
   },
   {
    "duration": 111,
    "start_time": "2022-12-27T10:35:41.665Z"
   },
   {
    "duration": 10,
    "start_time": "2022-12-27T10:36:15.898Z"
   },
   {
    "duration": 3,
    "start_time": "2022-12-27T10:37:58.284Z"
   },
   {
    "duration": 15,
    "start_time": "2022-12-27T10:38:17.597Z"
   },
   {
    "duration": 13,
    "start_time": "2022-12-27T10:38:27.139Z"
   },
   {
    "duration": 2,
    "start_time": "2022-12-27T10:49:42.739Z"
   },
   {
    "duration": 13,
    "start_time": "2022-12-27T10:49:45.399Z"
   },
   {
    "duration": 198,
    "start_time": "2022-12-27T10:49:49.090Z"
   },
   {
    "duration": 13,
    "start_time": "2022-12-27T10:49:50.892Z"
   },
   {
    "duration": 3,
    "start_time": "2022-12-27T10:49:57.515Z"
   },
   {
    "duration": 12,
    "start_time": "2022-12-27T10:49:57.740Z"
   },
   {
    "duration": 3,
    "start_time": "2022-12-27T10:51:11.780Z"
   },
   {
    "duration": 103,
    "start_time": "2022-12-27T10:51:14.952Z"
   },
   {
    "duration": 4,
    "start_time": "2022-12-27T10:51:16.584Z"
   },
   {
    "duration": 4,
    "start_time": "2022-12-27T10:51:34.249Z"
   },
   {
    "duration": 551,
    "start_time": "2022-12-27T10:51:41.620Z"
   },
   {
    "duration": 4,
    "start_time": "2022-12-27T10:51:46.515Z"
   },
   {
    "duration": 3,
    "start_time": "2022-12-27T10:52:12.770Z"
   },
   {
    "duration": 2,
    "start_time": "2022-12-27T10:52:22.516Z"
   },
   {
    "duration": 119,
    "start_time": "2022-12-27T10:52:24.703Z"
   },
   {
    "duration": 3,
    "start_time": "2022-12-27T10:52:25.045Z"
   },
   {
    "duration": 3,
    "start_time": "2022-12-27T10:52:34.970Z"
   },
   {
    "duration": 17,
    "start_time": "2022-12-27T10:52:35.190Z"
   },
   {
    "duration": 13,
    "start_time": "2022-12-27T12:02:13.692Z"
   },
   {
    "duration": 9,
    "start_time": "2022-12-27T12:08:22.190Z"
   },
   {
    "duration": 9,
    "start_time": "2022-12-27T12:08:29.984Z"
   },
   {
    "duration": 4,
    "start_time": "2022-12-27T12:25:22.599Z"
   },
   {
    "duration": 10,
    "start_time": "2022-12-27T12:25:57.863Z"
   },
   {
    "duration": 18,
    "start_time": "2022-12-27T12:30:43.804Z"
   },
   {
    "duration": 4,
    "start_time": "2022-12-27T12:32:37.053Z"
   },
   {
    "duration": 182,
    "start_time": "2022-12-27T12:32:53.934Z"
   },
   {
    "duration": 2,
    "start_time": "2022-12-27T12:32:55.138Z"
   },
   {
    "duration": 15,
    "start_time": "2022-12-27T12:32:56.084Z"
   },
   {
    "duration": 7,
    "start_time": "2022-12-27T12:33:00.839Z"
   },
   {
    "duration": 3,
    "start_time": "2022-12-27T12:33:34.405Z"
   },
   {
    "duration": 14,
    "start_time": "2022-12-27T12:33:34.755Z"
   },
   {
    "duration": 18,
    "start_time": "2022-12-27T12:33:38.301Z"
   },
   {
    "duration": 31,
    "start_time": "2022-12-27T12:35:29.359Z"
   },
   {
    "duration": 6,
    "start_time": "2022-12-27T12:38:37.569Z"
   },
   {
    "duration": 783,
    "start_time": "2022-12-27T12:39:35.141Z"
   },
   {
    "duration": 109,
    "start_time": "2022-12-27T12:58:35.046Z"
   },
   {
    "duration": 719,
    "start_time": "2022-12-27T12:58:47.856Z"
   },
   {
    "duration": 693,
    "start_time": "2022-12-27T12:58:57.473Z"
   },
   {
    "duration": 667,
    "start_time": "2022-12-27T12:59:02.018Z"
   },
   {
    "duration": 255,
    "start_time": "2022-12-27T13:01:39.623Z"
   },
   {
    "duration": 3094,
    "start_time": "2022-12-27T13:14:21.489Z"
   },
   {
    "duration": 198,
    "start_time": "2022-12-27T13:14:33.792Z"
   },
   {
    "duration": 190,
    "start_time": "2022-12-27T13:14:41.346Z"
   },
   {
    "duration": 183,
    "start_time": "2022-12-27T13:14:46.668Z"
   },
   {
    "duration": 200,
    "start_time": "2022-12-27T13:15:21.056Z"
   },
   {
    "duration": 167,
    "start_time": "2022-12-27T13:16:26.298Z"
   },
   {
    "duration": 169,
    "start_time": "2022-12-27T13:16:29.833Z"
   },
   {
    "duration": 187,
    "start_time": "2022-12-27T13:17:12.732Z"
   },
   {
    "duration": 186,
    "start_time": "2022-12-27T13:17:22.540Z"
   },
   {
    "duration": 195,
    "start_time": "2022-12-27T13:17:48.688Z"
   },
   {
    "duration": 203,
    "start_time": "2022-12-27T13:17:55.661Z"
   },
   {
    "duration": 188,
    "start_time": "2022-12-27T13:18:02.239Z"
   },
   {
    "duration": 357,
    "start_time": "2022-12-27T13:19:18.097Z"
   },
   {
    "duration": 182,
    "start_time": "2022-12-27T13:19:36.675Z"
   },
   {
    "duration": 6,
    "start_time": "2022-12-27T14:08:01.683Z"
   },
   {
    "duration": 8,
    "start_time": "2022-12-27T14:08:47.777Z"
   },
   {
    "duration": 11,
    "start_time": "2022-12-27T14:08:54.896Z"
   },
   {
    "duration": 9,
    "start_time": "2022-12-27T14:09:16.182Z"
   },
   {
    "duration": 543,
    "start_time": "2022-12-27T14:09:24.390Z"
   },
   {
    "duration": 285,
    "start_time": "2022-12-27T14:10:12.758Z"
   },
   {
    "duration": 16,
    "start_time": "2022-12-27T14:11:05.995Z"
   },
   {
    "duration": 7,
    "start_time": "2022-12-27T14:11:26.658Z"
   },
   {
    "duration": 157,
    "start_time": "2022-12-27T14:11:40.798Z"
   },
   {
    "duration": 8,
    "start_time": "2022-12-27T14:15:19.460Z"
   },
   {
    "duration": 165,
    "start_time": "2022-12-27T14:15:19.998Z"
   },
   {
    "duration": 7,
    "start_time": "2022-12-27T14:15:45.441Z"
   },
   {
    "duration": 157,
    "start_time": "2022-12-27T14:15:45.682Z"
   },
   {
    "duration": 160,
    "start_time": "2022-12-27T14:16:42.134Z"
   },
   {
    "duration": 219,
    "start_time": "2022-12-27T14:19:51.425Z"
   },
   {
    "duration": 193,
    "start_time": "2022-12-27T14:20:07.303Z"
   },
   {
    "duration": 216,
    "start_time": "2022-12-27T14:20:55.556Z"
   },
   {
    "duration": 14,
    "start_time": "2022-12-27T14:22:05.960Z"
   },
   {
    "duration": 215,
    "start_time": "2022-12-27T14:22:16.369Z"
   },
   {
    "duration": 209,
    "start_time": "2022-12-27T14:22:37.083Z"
   },
   {
    "duration": 8,
    "start_time": "2022-12-27T14:23:34.056Z"
   },
   {
    "duration": 288,
    "start_time": "2022-12-27T14:24:14.054Z"
   },
   {
    "duration": 167,
    "start_time": "2022-12-27T14:24:18.686Z"
   },
   {
    "duration": 173,
    "start_time": "2022-12-27T14:24:25.465Z"
   },
   {
    "duration": 175,
    "start_time": "2022-12-27T14:24:40.886Z"
   },
   {
    "duration": 174,
    "start_time": "2022-12-27T14:25:07.042Z"
   },
   {
    "duration": 211,
    "start_time": "2022-12-27T14:26:03.748Z"
   },
   {
    "duration": 167,
    "start_time": "2022-12-27T14:26:27.269Z"
   },
   {
    "duration": 8872,
    "start_time": "2022-12-27T14:27:58.514Z"
   },
   {
    "duration": 273,
    "start_time": "2022-12-27T14:28:55.193Z"
   },
   {
    "duration": 172,
    "start_time": "2022-12-27T14:29:01.746Z"
   },
   {
    "duration": 7,
    "start_time": "2022-12-27T14:30:13.112Z"
   },
   {
    "duration": 138,
    "start_time": "2022-12-27T14:30:30.057Z"
   },
   {
    "duration": 168,
    "start_time": "2022-12-27T14:31:11.723Z"
   },
   {
    "duration": 160,
    "start_time": "2022-12-27T14:32:00.616Z"
   },
   {
    "duration": 133,
    "start_time": "2022-12-27T14:33:01.969Z"
   },
   {
    "duration": 172,
    "start_time": "2022-12-27T14:33:07.269Z"
   },
   {
    "duration": 154,
    "start_time": "2022-12-27T14:36:05.490Z"
   },
   {
    "duration": 177,
    "start_time": "2022-12-27T14:36:13.464Z"
   },
   {
    "duration": 8,
    "start_time": "2022-12-27T14:36:42.846Z"
   },
   {
    "duration": 190,
    "start_time": "2022-12-27T14:36:43.173Z"
   },
   {
    "duration": 204,
    "start_time": "2022-12-27T14:36:47.461Z"
   },
   {
    "duration": 6,
    "start_time": "2022-12-27T14:36:56.493Z"
   },
   {
    "duration": 178,
    "start_time": "2022-12-27T14:37:00.949Z"
   },
   {
    "duration": 432,
    "start_time": "2022-12-27T17:23:45.398Z"
   },
   {
    "duration": 5,
    "start_time": "2022-12-27T17:26:35.055Z"
   },
   {
    "duration": 24,
    "start_time": "2022-12-27T17:26:37.572Z"
   },
   {
    "duration": 11,
    "start_time": "2022-12-27T17:26:42.206Z"
   },
   {
    "duration": 6,
    "start_time": "2022-12-27T17:27:15.709Z"
   },
   {
    "duration": 28,
    "start_time": "2022-12-27T17:27:22.099Z"
   },
   {
    "duration": 17,
    "start_time": "2022-12-27T17:27:39.028Z"
   },
   {
    "duration": 34,
    "start_time": "2022-12-27T17:27:47.067Z"
   },
   {
    "duration": 29,
    "start_time": "2022-12-27T17:27:53.501Z"
   },
   {
    "duration": 6,
    "start_time": "2022-12-27T17:28:02.942Z"
   },
   {
    "duration": 6,
    "start_time": "2022-12-27T17:28:07.936Z"
   },
   {
    "duration": 10,
    "start_time": "2022-12-27T17:28:56.026Z"
   },
   {
    "duration": 7,
    "start_time": "2022-12-27T17:29:34.393Z"
   },
   {
    "duration": 17,
    "start_time": "2022-12-27T17:32:54.626Z"
   },
   {
    "duration": 104,
    "start_time": "2022-12-27T17:39:47.061Z"
   },
   {
    "duration": 8,
    "start_time": "2022-12-27T17:41:08.447Z"
   },
   {
    "duration": 219,
    "start_time": "2022-12-27T17:41:45.702Z"
   },
   {
    "duration": 170,
    "start_time": "2022-12-27T17:41:57.113Z"
   },
   {
    "duration": 78,
    "start_time": "2022-12-27T17:42:06.504Z"
   },
   {
    "duration": 75,
    "start_time": "2022-12-27T17:42:10.445Z"
   },
   {
    "duration": 29,
    "start_time": "2022-12-27T17:45:12.201Z"
   },
   {
    "duration": 8,
    "start_time": "2022-12-27T17:45:33.921Z"
   },
   {
    "duration": 4,
    "start_time": "2022-12-27T17:45:36.844Z"
   },
   {
    "duration": 3,
    "start_time": "2022-12-27T17:49:02.021Z"
   },
   {
    "duration": 4,
    "start_time": "2022-12-27T17:49:27.741Z"
   },
   {
    "duration": 13061,
    "start_time": "2022-12-27T17:49:28.727Z"
   },
   {
    "duration": 32695,
    "start_time": "2022-12-27T17:50:54.621Z"
   },
   {
    "duration": 11891,
    "start_time": "2022-12-27T17:52:49.898Z"
   },
   {
    "duration": 23861,
    "start_time": "2022-12-27T17:53:42.440Z"
   },
   {
    "duration": 36376,
    "start_time": "2022-12-27T17:54:51.900Z"
   },
   {
    "duration": 43959,
    "start_time": "2022-12-27T17:55:42.373Z"
   },
   {
    "duration": 81625,
    "start_time": "2022-12-27T17:57:03.437Z"
   },
   {
    "duration": 1611,
    "start_time": "2022-12-28T10:09:40.755Z"
   },
   {
    "duration": 3,
    "start_time": "2022-12-28T10:09:42.368Z"
   },
   {
    "duration": 190,
    "start_time": "2022-12-28T10:09:43.681Z"
   },
   {
    "duration": 3,
    "start_time": "2022-12-28T10:09:44.598Z"
   },
   {
    "duration": 20,
    "start_time": "2022-12-28T10:09:45.512Z"
   },
   {
    "duration": 8,
    "start_time": "2022-12-28T10:09:46.670Z"
   },
   {
    "duration": 4,
    "start_time": "2022-12-28T10:09:48.145Z"
   },
   {
    "duration": 12,
    "start_time": "2022-12-28T10:09:48.655Z"
   },
   {
    "duration": 8,
    "start_time": "2022-12-28T10:10:03.444Z"
   },
   {
    "duration": 204,
    "start_time": "2022-12-28T10:10:03.902Z"
   },
   {
    "duration": 172,
    "start_time": "2022-12-28T10:10:06.198Z"
   },
   {
    "duration": 6,
    "start_time": "2022-12-28T10:10:08.350Z"
   },
   {
    "duration": 218,
    "start_time": "2022-12-28T10:10:08.798Z"
   },
   {
    "duration": 9,
    "start_time": "2022-12-28T10:10:11.530Z"
   },
   {
    "duration": 4,
    "start_time": "2022-12-28T10:10:13.021Z"
   },
   {
    "duration": 4,
    "start_time": "2022-12-28T10:13:41.812Z"
   },
   {
    "duration": 48,
    "start_time": "2022-12-28T10:15:24.080Z"
   },
   {
    "duration": 5,
    "start_time": "2022-12-28T10:16:58.333Z"
   },
   {
    "duration": 44331,
    "start_time": "2022-12-28T10:16:59.323Z"
   },
   {
    "duration": 23186,
    "start_time": "2022-12-28T10:19:34.110Z"
   },
   {
    "duration": 30779,
    "start_time": "2022-12-28T10:20:30.927Z"
   },
   {
    "duration": 45268,
    "start_time": "2022-12-28T10:21:46.645Z"
   },
   {
    "duration": 58995,
    "start_time": "2022-12-28T10:24:17.057Z"
   },
   {
    "duration": 78804,
    "start_time": "2022-12-28T10:25:54.319Z"
   },
   {
    "duration": 58920,
    "start_time": "2022-12-28T10:27:58.654Z"
   },
   {
    "duration": 396963,
    "start_time": "2022-12-28T10:44:03.848Z"
   },
   {
    "duration": 0,
    "start_time": "2022-12-28T10:50:40.813Z"
   },
   {
    "duration": 4,
    "start_time": "2022-12-28T10:50:48.012Z"
   },
   {
    "duration": 5,
    "start_time": "2022-12-28T10:50:49.235Z"
   },
   {
    "duration": 75,
    "start_time": "2022-12-28T10:50:55.148Z"
   },
   {
    "duration": 103035,
    "start_time": "2022-12-28T10:51:29.235Z"
   }
  ],
  "kernelspec": {
   "display_name": "Python 3 (ipykernel)",
   "language": "python",
   "name": "python3"
  },
  "language_info": {
   "codemirror_mode": {
    "name": "ipython",
    "version": 3
   },
   "file_extension": ".py",
   "mimetype": "text/x-python",
   "name": "python",
   "nbconvert_exporter": "python",
   "pygments_lexer": "ipython3",
   "version": "3.10.10"
  },
  "toc": {
   "base_numbering": 1,
   "nav_menu": {},
   "number_sections": true,
   "sideBar": true,
   "skip_h1_title": true,
   "title_cell": "Содержание",
   "title_sidebar": "Contents",
   "toc_cell": true,
   "toc_position": {},
   "toc_section_display": true,
   "toc_window_display": false
  }
 },
 "nbformat": 4,
 "nbformat_minor": 4
}
